{
 "cells": [
  {
   "cell_type": "code",
   "execution_count": 1,
   "id": "3ff3ec57",
   "metadata": {},
   "outputs": [],
   "source": [
    "import numpy as np\n",
    "import scipy as sp\n",
    "import pandas as pd\n",
    "import statsmodels as sm\n",
    "from scipy import stats\n",
    "from scipy.stats import ttest_ind\n",
    "import random\n",
    "from sklearn.metrics import r2_score\n",
    "from sklearn.linear_model import LinearRegression\n",
    "from sklearn.model_selection import train_test_split\n",
    "from sklearn.metrics import mean_squared_error, r2_score\n",
    "import matplotlib.pyplot as plt\n",
    "from math import sqrt\n",
    "from sklearn.cluster import KMeans\n",
    "from sklearn.decomposition import PCA\n",
    "from sklearn import preprocessing\n",
    "from scipy.stats import zscore\n",
    "from sklearn import metrics\n",
    "from kneed import KneeLocator # for KMeans, elbow method\n",
    "from sklearn.preprocessing import scale\n",
    "\n",
    "from sklearn.metrics import silhouette_samples\n",
    "\n",
    "from sklearn.linear_model import LogisticRegression\n",
    "from scipy.special import expit\n",
    "\n",
    "from sklearn.preprocessing import StandardScaler     # feature scaling\n",
    "from sklearn import metrics                          # for evaluation metrics\n",
    "\n",
    "from sklearn.neighbors import KNeighborsClassifier   # knn\n",
    "from sklearn.cluster import KMeans                   # kmeans\n",
    "\n",
    "# additional metrics\n",
    "from kneed import KneeLocator # for KMeans, elbow method\n",
    "#from yellowbrick.cluster import SilhouetteVisualizer # for KMeans, silhouette scores"
   ]
  },
  {
   "cell_type": "code",
   "execution_count": 2,
   "id": "ad97532d",
   "metadata": {},
   "outputs": [],
   "source": [
    "seed = 10676823"
   ]
  },
  {
   "cell_type": "code",
   "execution_count": 3,
   "id": "6213365e",
   "metadata": {},
   "outputs": [],
   "source": [
    "#1\n",
    "art = pd.read_csv('theArt.csv')\n",
    "data = pd.read_csv('theData.csv', header = None)\n",
    "rate = data.iloc[:,0:91]\n",
    "classical = rate.iloc[:,0:36]\n",
    "modern = rate.iloc[:,36:71]\n",
    "\n",
    "#2\n",
    "#modern\n",
    "nonhuman = rate.iloc[:,70:91]\n",
    "\n",
    "#3\n",
    "gender = pd.DataFrame(data.iloc[:,216])\n",
    "rate_gender = pd.concat([rate,gender],axis=1)\n",
    "male = rate_gender[rate_gender[216]==1].iloc[:,:-1]\n",
    "female = rate_gender[rate_gender[216]==2].iloc[:,:-1]\n",
    "\n",
    "#4\n",
    "education = data.iloc[:,218]\n",
    "rate_education = pd.concat([rate,education],axis=1)\n",
    "noart = rate_education[rate_education.iloc[:,91] == 0].iloc[:,:-1]\n",
    "art = rate_education[rate_education.iloc[:,91] != 0].iloc[:,:-1]\n",
    "\n",
    "#5\n",
    "energy1 = data.iloc[:,91:182]\n",
    "energy = energy1.fillna(energy1.median())\n",
    "\n",
    "\n",
    "#6\n",
    "#It only makes sense to drop it instead of filling it with median or \n",
    "#something since it does not make sense\n",
    "demographic = data.iloc[:,215:221]\n",
    "#notice I made rate to rate mean\n",
    "rate_energy_demographic = pd.concat([np.mean(rate,axis=0), \n",
    "                                     np.mean(energy, axis=1), \n",
    "                                     demographic],axis=1).dropna()\n",
    "\n",
    "#7\n",
    "rate_mean = np.mean(rate, axis=1)\n",
    "energy_mean = np.mean(energy,axis=1)\n",
    "rate_energy_mean = pd.concat([np.mean(rate, axis=1),np.mean(energy,axis=1)], axis=1)\n",
    "rate_energy_mean = pd.DataFrame (rate_mean,columns =['rate'])\n",
    "rare_energy_mean = pd.DataFrame(energy_mean,columns =['energy'])\n",
    "\n",
    "#8\n",
    "image = data.iloc[:,205:215].dropna()\n",
    "\n",
    "#9\n",
    "dark = data.iloc[:,182:194].dropna()\n",
    "\n",
    "#10\n",
    "political1 = data.iloc[:,217:218]\n",
    "politicalnp = political1.to_numpy()\n",
    "political2=[]\n",
    "for i in range(300):\n",
    "    if(politicalnp[i:i+1]==1.0 ):\n",
    "        political2.append(1) \n",
    "    elif(politicalnp[i:i+1]==2.0):\n",
    "        political2.append(1)\n",
    "    else:\n",
    "        political2.append(0)\n",
    "political = pd.DataFrame(political2)\n",
    "rate_political = pd.concat([rate,political], axis=1)\n",
    "#left = rate_political[rate_political.iloc[:,91:92]==1].iloc[:,:-2]\n",
    "#temp=rate_political[rate_political.iloc[:,91:92]==1]\n"
   ]
  },
  {
   "cell_type": "code",
   "execution_count": 4,
   "id": "12e8401c",
   "metadata": {},
   "outputs": [],
   "source": [
    "# 1) Is classical art more well liked than modern art?"
   ]
  },
  {
   "cell_type": "code",
   "execution_count": 5,
   "id": "ad50d821",
   "metadata": {},
   "outputs": [
    {
     "name": "stdout",
     "output_type": "stream",
     "text": [
      "mean of classical art: 4.722962962962963\n",
      "mean of modern art: 4.210380952380954\n"
     ]
    }
   ],
   "source": [
    "print('mean of classical art: '+ str(classical.mean().mean()))\n",
    "print('mean of modern art: '+ str(modern.mean().mean()))"
   ]
  },
  {
   "cell_type": "code",
   "execution_count": 6,
   "id": "a209fc02",
   "metadata": {},
   "outputs": [
    {
     "data": {
      "text/plain": [
       "Ttest_indResult(statistic=3.672293579314024, pvalue=0.0004702217237268629)"
      ]
     },
     "execution_count": 6,
     "metadata": {},
     "output_type": "execute_result"
    }
   ],
   "source": [
    "ttest_ind(classical.mean(), modern.mean(), alternative = \"two-sided\")"
   ]
  },
  {
   "cell_type": "code",
   "execution_count": 7,
   "id": "ee60d80c",
   "metadata": {},
   "outputs": [
    {
     "data": {
      "text/plain": [
       "Ttest_indResult(statistic=3.672293579314024, pvalue=0.00023511086186343144)"
      ]
     },
     "execution_count": 7,
     "metadata": {},
     "output_type": "execute_result"
    }
   ],
   "source": [
    "ttest_ind(classical.mean(), modern.mean(), alternative = \"greater\")"
   ]
  },
  {
   "cell_type": "code",
   "execution_count": 8,
   "id": "5d5caa2f",
   "metadata": {},
   "outputs": [],
   "source": [
    "# 2) Is there a difference in the preference ratings for modern art vs. non-human (animals and computers) generated art? "
   ]
  },
  {
   "cell_type": "code",
   "execution_count": 9,
   "id": "4102e7a0",
   "metadata": {},
   "outputs": [
    {
     "name": "stdout",
     "output_type": "stream",
     "text": [
      "mean of modern art: 4.210380952380954\n",
      "mean of non-human art: 3.308095238095238\n"
     ]
    }
   ],
   "source": [
    "print('mean of modern art: '+str(modern.mean().mean()))\n",
    "print('mean of non-human art: '+str(nonhuman.mean().mean()))"
   ]
  },
  {
   "cell_type": "code",
   "execution_count": 10,
   "id": "2d0b2ef0",
   "metadata": {},
   "outputs": [
    {
     "data": {
      "text/plain": [
       "Ttest_indResult(statistic=5.348006124028942, pvalue=1.8468344751323058e-06)"
      ]
     },
     "execution_count": 10,
     "metadata": {},
     "output_type": "execute_result"
    }
   ],
   "source": [
    "ttest_ind(modern.mean(), nonhuman.mean(), alternative = \"two-sided\")"
   ]
  },
  {
   "cell_type": "code",
   "execution_count": 11,
   "id": "67f061b0",
   "metadata": {},
   "outputs": [
    {
     "data": {
      "text/plain": [
       "Ttest_indResult(statistic=5.348006124028942, pvalue=9.234172375661529e-07)"
      ]
     },
     "execution_count": 11,
     "metadata": {},
     "output_type": "execute_result"
    }
   ],
   "source": [
    "ttest_ind(modern.mean(), nonhuman.mean(), alternative = \"greater\")"
   ]
  },
  {
   "cell_type": "code",
   "execution_count": 12,
   "id": "8e094f64",
   "metadata": {},
   "outputs": [],
   "source": [
    "# 3) Do women give higher art preference ratings than men?"
   ]
  },
  {
   "cell_type": "code",
   "execution_count": 13,
   "id": "f832a65b",
   "metadata": {},
   "outputs": [
    {
     "data": {
      "text/html": [
       "<div>\n",
       "<style scoped>\n",
       "    .dataframe tbody tr th:only-of-type {\n",
       "        vertical-align: middle;\n",
       "    }\n",
       "\n",
       "    .dataframe tbody tr th {\n",
       "        vertical-align: top;\n",
       "    }\n",
       "\n",
       "    .dataframe thead th {\n",
       "        text-align: right;\n",
       "    }\n",
       "</style>\n",
       "<table border=\"1\" class=\"dataframe\">\n",
       "  <thead>\n",
       "    <tr style=\"text-align: right;\">\n",
       "      <th></th>\n",
       "      <th>0</th>\n",
       "      <th>1</th>\n",
       "      <th>2</th>\n",
       "      <th>3</th>\n",
       "      <th>4</th>\n",
       "      <th>5</th>\n",
       "      <th>6</th>\n",
       "      <th>7</th>\n",
       "      <th>8</th>\n",
       "      <th>9</th>\n",
       "      <th>...</th>\n",
       "      <th>81</th>\n",
       "      <th>82</th>\n",
       "      <th>83</th>\n",
       "      <th>84</th>\n",
       "      <th>85</th>\n",
       "      <th>86</th>\n",
       "      <th>87</th>\n",
       "      <th>88</th>\n",
       "      <th>89</th>\n",
       "      <th>90</th>\n",
       "    </tr>\n",
       "  </thead>\n",
       "  <tbody>\n",
       "    <tr>\n",
       "      <th>0</th>\n",
       "      <td>-2.014529</td>\n",
       "      <td>-0.411456</td>\n",
       "      <td>-0.127988</td>\n",
       "      <td>-2.042704</td>\n",
       "      <td>2.097864</td>\n",
       "      <td>1.525626</td>\n",
       "      <td>-0.038003</td>\n",
       "      <td>2.227570</td>\n",
       "      <td>0.996111</td>\n",
       "      <td>1.773157</td>\n",
       "      <td>...</td>\n",
       "      <td>1.574397</td>\n",
       "      <td>1.832576</td>\n",
       "      <td>1.057185</td>\n",
       "      <td>0.109336</td>\n",
       "      <td>0.592502</td>\n",
       "      <td>1.563676</td>\n",
       "      <td>0.939356</td>\n",
       "      <td>-2.288329</td>\n",
       "      <td>-0.461777</td>\n",
       "      <td>-0.099121</td>\n",
       "    </tr>\n",
       "    <tr>\n",
       "      <th>1</th>\n",
       "      <td>0.044938</td>\n",
       "      <td>0.681062</td>\n",
       "      <td>0.898253</td>\n",
       "      <td>0.042046</td>\n",
       "      <td>0.036840</td>\n",
       "      <td>0.128265</td>\n",
       "      <td>0.969713</td>\n",
       "      <td>0.026727</td>\n",
       "      <td>0.320082</td>\n",
       "      <td>0.077322</td>\n",
       "      <td>...</td>\n",
       "      <td>0.116558</td>\n",
       "      <td>0.067959</td>\n",
       "      <td>0.291365</td>\n",
       "      <td>0.913017</td>\n",
       "      <td>0.554007</td>\n",
       "      <td>0.119056</td>\n",
       "      <td>0.348382</td>\n",
       "      <td>0.022886</td>\n",
       "      <td>0.644610</td>\n",
       "      <td>0.921115</td>\n",
       "    </tr>\n",
       "  </tbody>\n",
       "</table>\n",
       "<p>2 rows × 91 columns</p>\n",
       "</div>"
      ],
      "text/plain": [
       "         0         1         2         3         4         5         6   \\\n",
       "0 -2.014529 -0.411456 -0.127988 -2.042704  2.097864  1.525626 -0.038003   \n",
       "1  0.044938  0.681062  0.898253  0.042046  0.036840  0.128265  0.969713   \n",
       "\n",
       "         7         8         9   ...        81        82        83        84  \\\n",
       "0  2.227570  0.996111  1.773157  ...  1.574397  1.832576  1.057185  0.109336   \n",
       "1  0.026727  0.320082  0.077322  ...  0.116558  0.067959  0.291365  0.913017   \n",
       "\n",
       "         85        86        87        88        89        90  \n",
       "0  0.592502  1.563676  0.939356 -2.288329 -0.461777 -0.099121  \n",
       "1  0.554007  0.119056  0.348382  0.022886  0.644610  0.921115  \n",
       "\n",
       "[2 rows x 91 columns]"
      ]
     },
     "execution_count": 13,
     "metadata": {},
     "output_type": "execute_result"
    }
   ],
   "source": [
    "pd.DataFrame(ttest_ind(male,female,alternative = 'two-sided'))"
   ]
  },
  {
   "cell_type": "code",
   "execution_count": 14,
   "id": "5a49977e",
   "metadata": {},
   "outputs": [
    {
     "data": {
      "text/html": [
       "<div>\n",
       "<style scoped>\n",
       "    .dataframe tbody tr th:only-of-type {\n",
       "        vertical-align: middle;\n",
       "    }\n",
       "\n",
       "    .dataframe tbody tr th {\n",
       "        vertical-align: top;\n",
       "    }\n",
       "\n",
       "    .dataframe thead th {\n",
       "        text-align: right;\n",
       "    }\n",
       "</style>\n",
       "<table border=\"1\" class=\"dataframe\">\n",
       "  <thead>\n",
       "    <tr style=\"text-align: right;\">\n",
       "      <th></th>\n",
       "      <th>0</th>\n",
       "      <th>1</th>\n",
       "      <th>2</th>\n",
       "      <th>3</th>\n",
       "      <th>4</th>\n",
       "      <th>5</th>\n",
       "      <th>6</th>\n",
       "      <th>7</th>\n",
       "      <th>8</th>\n",
       "      <th>9</th>\n",
       "      <th>...</th>\n",
       "      <th>81</th>\n",
       "      <th>82</th>\n",
       "      <th>83</th>\n",
       "      <th>84</th>\n",
       "      <th>85</th>\n",
       "      <th>86</th>\n",
       "      <th>87</th>\n",
       "      <th>88</th>\n",
       "      <th>89</th>\n",
       "      <th>90</th>\n",
       "    </tr>\n",
       "  </thead>\n",
       "  <tbody>\n",
       "    <tr>\n",
       "      <th>0</th>\n",
       "      <td>-2.014529</td>\n",
       "      <td>-0.411456</td>\n",
       "      <td>-0.127988</td>\n",
       "      <td>-2.042704</td>\n",
       "      <td>2.097864</td>\n",
       "      <td>1.525626</td>\n",
       "      <td>-0.038003</td>\n",
       "      <td>2.227570</td>\n",
       "      <td>0.996111</td>\n",
       "      <td>1.773157</td>\n",
       "      <td>...</td>\n",
       "      <td>1.574397</td>\n",
       "      <td>1.832576</td>\n",
       "      <td>1.057185</td>\n",
       "      <td>0.109336</td>\n",
       "      <td>0.592502</td>\n",
       "      <td>1.563676</td>\n",
       "      <td>0.939356</td>\n",
       "      <td>-2.288329</td>\n",
       "      <td>-0.461777</td>\n",
       "      <td>-0.099121</td>\n",
       "    </tr>\n",
       "    <tr>\n",
       "      <th>1</th>\n",
       "      <td>0.977531</td>\n",
       "      <td>0.659469</td>\n",
       "      <td>0.550873</td>\n",
       "      <td>0.978977</td>\n",
       "      <td>0.018420</td>\n",
       "      <td>0.064132</td>\n",
       "      <td>0.515144</td>\n",
       "      <td>0.013364</td>\n",
       "      <td>0.160041</td>\n",
       "      <td>0.038661</td>\n",
       "      <td>...</td>\n",
       "      <td>0.058279</td>\n",
       "      <td>0.033979</td>\n",
       "      <td>0.145683</td>\n",
       "      <td>0.456508</td>\n",
       "      <td>0.277003</td>\n",
       "      <td>0.059528</td>\n",
       "      <td>0.174191</td>\n",
       "      <td>0.988557</td>\n",
       "      <td>0.677695</td>\n",
       "      <td>0.539442</td>\n",
       "    </tr>\n",
       "  </tbody>\n",
       "</table>\n",
       "<p>2 rows × 91 columns</p>\n",
       "</div>"
      ],
      "text/plain": [
       "         0         1         2         3         4         5         6   \\\n",
       "0 -2.014529 -0.411456 -0.127988 -2.042704  2.097864  1.525626 -0.038003   \n",
       "1  0.977531  0.659469  0.550873  0.978977  0.018420  0.064132  0.515144   \n",
       "\n",
       "         7         8         9   ...        81        82        83        84  \\\n",
       "0  2.227570  0.996111  1.773157  ...  1.574397  1.832576  1.057185  0.109336   \n",
       "1  0.013364  0.160041  0.038661  ...  0.058279  0.033979  0.145683  0.456508   \n",
       "\n",
       "         85        86        87        88        89        90  \n",
       "0  0.592502  1.563676  0.939356 -2.288329 -0.461777 -0.099121  \n",
       "1  0.277003  0.059528  0.174191  0.988557  0.677695  0.539442  \n",
       "\n",
       "[2 rows x 91 columns]"
      ]
     },
     "execution_count": 14,
     "metadata": {},
     "output_type": "execute_result"
    }
   ],
   "source": [
    "pd.DataFrame(ttest_ind(male,female, alternative = 'greater'))"
   ]
  },
  {
   "cell_type": "code",
   "execution_count": 15,
   "id": "0736a031",
   "metadata": {},
   "outputs": [
    {
     "data": {
      "text/plain": [
       "Ttest_indResult(statistic=-0.09753731189464791, pvalue=0.9224082271508969)"
      ]
     },
     "execution_count": 15,
     "metadata": {},
     "output_type": "execute_result"
    }
   ],
   "source": [
    "ttest_ind(male.mean(),female.mean(), alternative = 'two-sided')"
   ]
  },
  {
   "cell_type": "code",
   "execution_count": 16,
   "id": "9dc14477",
   "metadata": {},
   "outputs": [
    {
     "data": {
      "text/plain": [
       "Ttest_indResult(statistic=-0.09753731189464791, pvalue=0.5387958864245515)"
      ]
     },
     "execution_count": 16,
     "metadata": {},
     "output_type": "execute_result"
    }
   ],
   "source": [
    "ttest_ind(male.mean(),female.mean(), alternative = 'greater')"
   ]
  },
  {
   "cell_type": "code",
   "execution_count": 17,
   "id": "f3d14263",
   "metadata": {},
   "outputs": [],
   "source": [
    "# 4) Is there a difference in the preference ratings of users with some art background (some art education) vs. none?"
   ]
  },
  {
   "cell_type": "code",
   "execution_count": 18,
   "id": "2639266b",
   "metadata": {},
   "outputs": [
    {
     "data": {
      "text/html": [
       "<div>\n",
       "<style scoped>\n",
       "    .dataframe tbody tr th:only-of-type {\n",
       "        vertical-align: middle;\n",
       "    }\n",
       "\n",
       "    .dataframe tbody tr th {\n",
       "        vertical-align: top;\n",
       "    }\n",
       "\n",
       "    .dataframe thead th {\n",
       "        text-align: right;\n",
       "    }\n",
       "</style>\n",
       "<table border=\"1\" class=\"dataframe\">\n",
       "  <thead>\n",
       "    <tr style=\"text-align: right;\">\n",
       "      <th></th>\n",
       "      <th>0</th>\n",
       "      <th>1</th>\n",
       "      <th>2</th>\n",
       "      <th>3</th>\n",
       "      <th>4</th>\n",
       "      <th>5</th>\n",
       "      <th>6</th>\n",
       "      <th>7</th>\n",
       "      <th>8</th>\n",
       "      <th>9</th>\n",
       "      <th>...</th>\n",
       "      <th>81</th>\n",
       "      <th>82</th>\n",
       "      <th>83</th>\n",
       "      <th>84</th>\n",
       "      <th>85</th>\n",
       "      <th>86</th>\n",
       "      <th>87</th>\n",
       "      <th>88</th>\n",
       "      <th>89</th>\n",
       "      <th>90</th>\n",
       "    </tr>\n",
       "  </thead>\n",
       "  <tbody>\n",
       "    <tr>\n",
       "      <th>0</th>\n",
       "      <td>-0.585859</td>\n",
       "      <td>-0.794131</td>\n",
       "      <td>-0.643341</td>\n",
       "      <td>-1.333318</td>\n",
       "      <td>-0.683641</td>\n",
       "      <td>0.308652</td>\n",
       "      <td>1.033184</td>\n",
       "      <td>-1.112333</td>\n",
       "      <td>-2.058822</td>\n",
       "      <td>-1.270792</td>\n",
       "      <td>...</td>\n",
       "      <td>-1.471701</td>\n",
       "      <td>-1.560366</td>\n",
       "      <td>-1.461679</td>\n",
       "      <td>-0.808435</td>\n",
       "      <td>-0.969079</td>\n",
       "      <td>-2.117416</td>\n",
       "      <td>-1.401603</td>\n",
       "      <td>-1.506832</td>\n",
       "      <td>-2.245935</td>\n",
       "      <td>-2.135719</td>\n",
       "    </tr>\n",
       "    <tr>\n",
       "      <th>1</th>\n",
       "      <td>0.558414</td>\n",
       "      <td>0.427751</td>\n",
       "      <td>0.520498</td>\n",
       "      <td>0.183446</td>\n",
       "      <td>0.494733</td>\n",
       "      <td>0.757802</td>\n",
       "      <td>0.302356</td>\n",
       "      <td>0.266891</td>\n",
       "      <td>0.040380</td>\n",
       "      <td>0.204794</td>\n",
       "      <td>...</td>\n",
       "      <td>0.142157</td>\n",
       "      <td>0.119735</td>\n",
       "      <td>0.144883</td>\n",
       "      <td>0.419485</td>\n",
       "      <td>0.333291</td>\n",
       "      <td>0.035053</td>\n",
       "      <td>0.162075</td>\n",
       "      <td>0.132913</td>\n",
       "      <td>0.025441</td>\n",
       "      <td>0.033517</td>\n",
       "    </tr>\n",
       "  </tbody>\n",
       "</table>\n",
       "<p>2 rows × 91 columns</p>\n",
       "</div>"
      ],
      "text/plain": [
       "         0         1         2         3         4         5         6   \\\n",
       "0 -0.585859 -0.794131 -0.643341 -1.333318 -0.683641  0.308652  1.033184   \n",
       "1  0.558414  0.427751  0.520498  0.183446  0.494733  0.757802  0.302356   \n",
       "\n",
       "         7         8         9   ...        81        82        83        84  \\\n",
       "0 -1.112333 -2.058822 -1.270792  ... -1.471701 -1.560366 -1.461679 -0.808435   \n",
       "1  0.266891  0.040380  0.204794  ...  0.142157  0.119735  0.144883  0.419485   \n",
       "\n",
       "         85        86        87        88        89        90  \n",
       "0 -0.969079 -2.117416 -1.401603 -1.506832 -2.245935 -2.135719  \n",
       "1  0.333291  0.035053  0.162075  0.132913  0.025441  0.033517  \n",
       "\n",
       "[2 rows x 91 columns]"
      ]
     },
     "execution_count": 18,
     "metadata": {},
     "output_type": "execute_result"
    }
   ],
   "source": [
    "pd.DataFrame(ttest_ind(art, noart, alternative='two-sided'))"
   ]
  },
  {
   "cell_type": "code",
   "execution_count": 19,
   "id": "5e1275cd",
   "metadata": {},
   "outputs": [
    {
     "data": {
      "text/html": [
       "<div>\n",
       "<style scoped>\n",
       "    .dataframe tbody tr th:only-of-type {\n",
       "        vertical-align: middle;\n",
       "    }\n",
       "\n",
       "    .dataframe tbody tr th {\n",
       "        vertical-align: top;\n",
       "    }\n",
       "\n",
       "    .dataframe thead th {\n",
       "        text-align: right;\n",
       "    }\n",
       "</style>\n",
       "<table border=\"1\" class=\"dataframe\">\n",
       "  <thead>\n",
       "    <tr style=\"text-align: right;\">\n",
       "      <th></th>\n",
       "      <th>0</th>\n",
       "      <th>1</th>\n",
       "      <th>2</th>\n",
       "      <th>3</th>\n",
       "      <th>4</th>\n",
       "      <th>5</th>\n",
       "      <th>6</th>\n",
       "      <th>7</th>\n",
       "      <th>8</th>\n",
       "      <th>9</th>\n",
       "      <th>...</th>\n",
       "      <th>81</th>\n",
       "      <th>82</th>\n",
       "      <th>83</th>\n",
       "      <th>84</th>\n",
       "      <th>85</th>\n",
       "      <th>86</th>\n",
       "      <th>87</th>\n",
       "      <th>88</th>\n",
       "      <th>89</th>\n",
       "      <th>90</th>\n",
       "    </tr>\n",
       "  </thead>\n",
       "  <tbody>\n",
       "    <tr>\n",
       "      <th>0</th>\n",
       "      <td>-0.585859</td>\n",
       "      <td>-0.794131</td>\n",
       "      <td>-0.643341</td>\n",
       "      <td>-1.333318</td>\n",
       "      <td>-0.683641</td>\n",
       "      <td>0.308652</td>\n",
       "      <td>1.033184</td>\n",
       "      <td>-1.112333</td>\n",
       "      <td>-2.058822</td>\n",
       "      <td>-1.270792</td>\n",
       "      <td>...</td>\n",
       "      <td>-1.471701</td>\n",
       "      <td>-1.560366</td>\n",
       "      <td>-1.461679</td>\n",
       "      <td>-0.808435</td>\n",
       "      <td>-0.969079</td>\n",
       "      <td>-2.117416</td>\n",
       "      <td>-1.401603</td>\n",
       "      <td>-1.506832</td>\n",
       "      <td>-2.245935</td>\n",
       "      <td>-2.135719</td>\n",
       "    </tr>\n",
       "    <tr>\n",
       "      <th>1</th>\n",
       "      <td>0.720793</td>\n",
       "      <td>0.786125</td>\n",
       "      <td>0.739751</td>\n",
       "      <td>0.908277</td>\n",
       "      <td>0.752633</td>\n",
       "      <td>0.378901</td>\n",
       "      <td>0.151178</td>\n",
       "      <td>0.866554</td>\n",
       "      <td>0.979810</td>\n",
       "      <td>0.897603</td>\n",
       "      <td>...</td>\n",
       "      <td>0.928922</td>\n",
       "      <td>0.940133</td>\n",
       "      <td>0.927559</td>\n",
       "      <td>0.790257</td>\n",
       "      <td>0.833354</td>\n",
       "      <td>0.982474</td>\n",
       "      <td>0.918963</td>\n",
       "      <td>0.933543</td>\n",
       "      <td>0.987280</td>\n",
       "      <td>0.983241</td>\n",
       "    </tr>\n",
       "  </tbody>\n",
       "</table>\n",
       "<p>2 rows × 91 columns</p>\n",
       "</div>"
      ],
      "text/plain": [
       "         0         1         2         3         4         5         6   \\\n",
       "0 -0.585859 -0.794131 -0.643341 -1.333318 -0.683641  0.308652  1.033184   \n",
       "1  0.720793  0.786125  0.739751  0.908277  0.752633  0.378901  0.151178   \n",
       "\n",
       "         7         8         9   ...        81        82        83        84  \\\n",
       "0 -1.112333 -2.058822 -1.270792  ... -1.471701 -1.560366 -1.461679 -0.808435   \n",
       "1  0.866554  0.979810  0.897603  ...  0.928922  0.940133  0.927559  0.790257   \n",
       "\n",
       "         85        86        87        88        89        90  \n",
       "0 -0.969079 -2.117416 -1.401603 -1.506832 -2.245935 -2.135719  \n",
       "1  0.833354  0.982474  0.918963  0.933543  0.987280  0.983241  \n",
       "\n",
       "[2 rows x 91 columns]"
      ]
     },
     "execution_count": 19,
     "metadata": {},
     "output_type": "execute_result"
    }
   ],
   "source": [
    "pd.DataFrame(ttest_ind(art, noart, alternative='greater'))"
   ]
  },
  {
   "cell_type": "code",
   "execution_count": 20,
   "id": "b5593467",
   "metadata": {},
   "outputs": [
    {
     "data": {
      "text/plain": [
       "Ttest_indResult(statistic=-1.0063732409491997, pvalue=0.31558699393499345)"
      ]
     },
     "execution_count": 20,
     "metadata": {},
     "output_type": "execute_result"
    }
   ],
   "source": [
    "ttest_ind(art.mean(), noart.mean(), alternative='two-sided')"
   ]
  },
  {
   "cell_type": "code",
   "execution_count": 21,
   "id": "d67b420e",
   "metadata": {},
   "outputs": [
    {
     "data": {
      "text/plain": [
       "Ttest_indResult(statistic=-1.0063732409491997, pvalue=0.8422065030325032)"
      ]
     },
     "execution_count": 21,
     "metadata": {},
     "output_type": "execute_result"
    }
   ],
   "source": [
    "ttest_ind(art.mean(), noart.mean(), alternative='greater')"
   ]
  },
  {
   "cell_type": "code",
   "execution_count": 22,
   "id": "043be3ba",
   "metadata": {},
   "outputs": [],
   "source": [
    "# 5) Build a regression model to predict art preference ratings from energy ratings only. Make sure to use cross-validation methods to avoid overfitting and characterize how well your model predicts art preference ratings."
   ]
  },
  {
   "cell_type": "code",
   "execution_count": 23,
   "id": "54ddd3c0",
   "metadata": {},
   "outputs": [
    {
     "data": {
      "text/plain": [
       "Text(0.5, 1.0, 'rate based on energy')"
      ]
     },
     "execution_count": 23,
     "metadata": {},
     "output_type": "execute_result"
    },
    {
     "data": {
      "image/png": "[encoded data removed]",
      "text/plain": [
       "<Figure size 432x288 with 1 Axes>"
      ]
     },
     "metadata": {
      "needs_background": "light"
     },
     "output_type": "display_data"
    }
   ],
   "source": [
    "y = np.mean(rate, axis=1)\n",
    "x = np.mean(energy, axis=1)\n",
    "plt.plot(x,y,'o',markersize=4) \n",
    "\n",
    "plt.xlabel('Energy')\n",
    "plt.ylabel('rate')\n",
    "plt.title('rate based on energy')\n",
    "#plt.legend()"
   ]
  },
  {
   "cell_type": "code",
   "execution_count": 24,
   "id": "d73243c4",
   "metadata": {},
   "outputs": [
    {
     "data": {
      "text/plain": [
       "(1.9991485860138005, array([0.54749206]))"
      ]
     },
     "execution_count": 24,
     "metadata": {},
     "output_type": "execute_result"
    }
   ],
   "source": [
    "x = np.array(x).reshape(-1,1)\n",
    "model = LinearRegression().fit(x,y)\n",
    "b0, b1 = model.intercept_, model.coef_\n",
    "b0,b1"
   ]
  },
  {
   "cell_type": "code",
   "execution_count": 25,
   "id": "2843f027",
   "metadata": {},
   "outputs": [
    {
     "data": {
      "image/png": "[encoded data removed]",
      "text/plain": [
       "<Figure size 432x288 with 1 Axes>"
      ]
     },
     "metadata": {
      "needs_background": "light"
     },
     "output_type": "display_data"
    }
   ],
   "source": [
    "yHat = b1[0]*x[:,0]\n",
    "plt.plot(yHat,y,'o',markersize=5)\n",
    "plt.xlabel('Predicted ratings')\n",
    "plt.ylabel('Actual ratings')\n",
    "rSqr = model.score(x,y)\n",
    "plt.title('R^2 = {:.3f}'.format(rSqr))\n",
    "plt.show()"
   ]
  },
  {
   "cell_type": "code",
   "execution_count": 26,
   "id": "db258b65",
   "metadata": {},
   "outputs": [
    {
     "name": "stdout",
     "output_type": "stream",
     "text": [
      "Intercept 1.776355345678529\n",
      "Coefficient [0.60233973]\n"
     ]
    }
   ],
   "source": [
    "x_train, x_test, y_train, y_test = train_test_split(x,               # X matrix\n",
    "                                                    y,               # Y vector\n",
    "                                                    test_size=0.20,  # percent of data in test\n",
    "                                                    random_state=seed  # set random state \n",
    "                                                   )\n",
    "\n",
    "regressor = LinearRegression().fit(x_train, y_train)   \n",
    "\n",
    "print('Intercept', regressor.intercept_)        # Print the intercept\n",
    "print('Coefficient', regressor.coef_)           # Print the coefficient"
   ]
  },
  {
   "cell_type": "code",
   "execution_count": 27,
   "id": "b7441240",
   "metadata": {},
   "outputs": [
    {
     "data": {
      "image/png": "[encoded data removed]",
      "text/plain": [
       "<Figure size 432x288 with 1 Axes>"
      ]
     },
     "metadata": {
      "needs_background": "light"
     },
     "output_type": "display_data"
    },
    {
     "name": "stdout",
     "output_type": "stream",
     "text": [
      "Root Mean Squared Error: 0.5532847578238594\n",
      "R-squared -0.028111359369796363\n"
     ]
    }
   ],
   "source": [
    "y_pred = regressor.predict(x_test)\n",
    "\n",
    "#plt.scatter(y_test, y_pred)\n",
    "#plt.plot(y_test, y_test, color = 'skyblue', linestyle='--', linewidth=1)\n",
    "\n",
    "plt.scatter(x_test, y_test)\n",
    "plt.plot(x_test, y_pred, color = 'orange', linestyle='--', linewidth=1)\n",
    "\n",
    "\n",
    "plt.xlabel('Actual Rating')\n",
    "plt.ylabel('Predicted Rating')\n",
    "\n",
    "plt.title('Actual & Predicted Ratings')\n",
    "#plt.legend()\n",
    "plt.show()\n",
    "\n",
    "print('Root Mean Squared Error:', np.sqrt(metrics.mean_squared_error(y_test, y_pred)))\n",
    "print('R-squared', metrics.r2_score(y_test, y_pred))"
   ]
  },
  {
   "cell_type": "code",
   "execution_count": 28,
   "id": "fc2b784a",
   "metadata": {},
   "outputs": [],
   "source": [
    "# 6) Build a regression model to predict art preference ratings from energy ratings and demographic information. Make sure to use cross-validation methods to avoid overfitting and comment on how well your model predicts relative to the “energy ratings only” model."
   ]
  },
  {
   "cell_type": "code",
   "execution_count": 29,
   "id": "67cd6156",
   "metadata": {},
   "outputs": [
    {
     "data": {
      "text/plain": [
       "(array([5.53728266]),\n",
       " array([[ 0.17810425, -0.09002415, -0.09178336, -0.04811588,  0.01579167,\n",
       "          0.12976079, -0.16778859]]))"
      ]
     },
     "execution_count": 29,
     "metadata": {},
     "output_type": "execute_result"
    }
   ],
   "source": [
    "x = rate_energy_demographic.iloc[:,1:].values\n",
    "y = rate_energy_demographic.iloc[:,:1].values\n",
    "model = LinearRegression().fit(x,y)\n",
    "b0, b1 = model.intercept_, model.coef_\n",
    "b0, b1"
   ]
  },
  {
   "cell_type": "code",
   "execution_count": 30,
   "id": "5f85c220",
   "metadata": {},
   "outputs": [
    {
     "name": "stdout",
     "output_type": "stream",
     "text": [
      "Intercept [6.28556553]\n",
      "Coefficient [[ 0.0814783  -0.09754177 -0.22277014 -0.05800916  0.07680077  0.10353489\n",
      "  -0.22117561]]\n"
     ]
    }
   ],
   "source": [
    "#x = np.array(x).reshape(-1,1)\n",
    "x_train, x_test, y_train, y_test = train_test_split(x, y,\n",
    "                                                    test_size=0.3,\n",
    "                                                    random_state=seed)\n",
    "\n",
    "regressor = LinearRegression()\n",
    "regressor.fit(x_train, y_train)          \n",
    "\n",
    "print('Intercept', regressor.intercept_)\n",
    "print('Coefficient', regressor.coef_)"
   ]
  },
  {
   "cell_type": "code",
   "execution_count": 31,
   "id": "098fc71b",
   "metadata": {},
   "outputs": [
    {
     "data": {
      "text/plain": [
       "0.5668405482979331"
      ]
     },
     "execution_count": 31,
     "metadata": {},
     "output_type": "execute_result"
    }
   ],
   "source": [
    "y_pred = regressor.predict(x_test) \n",
    "model.score(x_test,y_pred)"
   ]
  },
  {
   "cell_type": "code",
   "execution_count": 32,
   "id": "64673c67",
   "metadata": {},
   "outputs": [
    {
     "data": {
      "text/plain": [
       "-0.0036424327341577634"
      ]
     },
     "execution_count": 32,
     "metadata": {},
     "output_type": "execute_result"
    }
   ],
   "source": [
    "model.score(x_test,y_test)"
   ]
  },
  {
   "cell_type": "code",
   "execution_count": 33,
   "id": "762fd146",
   "metadata": {},
   "outputs": [
    {
     "data": {
      "image/png": "[encoded data removed]",
      "text/plain": [
       "<Figure size 432x288 with 2 Axes>"
      ]
     },
     "metadata": {
      "needs_background": "light"
     },
     "output_type": "display_data"
    }
   ],
   "source": [
    "corrMatrix1 = np.corrcoef(x, rowvar = False)\n",
    "# column-wise is appropirate to know how similar painting were answered.\n",
    "plt.imshow(corrMatrix1)\n",
    "plt.xlabel('demographic & energy')\n",
    "plt.ylabel('demographic & energy')\n",
    "plt.colorbar()\n",
    "\n",
    "plt.show()"
   ]
  },
  {
   "cell_type": "code",
   "execution_count": 34,
   "id": "9f5d9c13",
   "metadata": {},
   "outputs": [],
   "source": [
    "# 7) Considering the 2D space of average preference ratings vs. average energy rating (that contains the 91 art pieces as elements), how many clusters can you – algorithmically - identify in this space? Make sure to comment on the identity of the clusters – do they correspond to particular types of art?"
   ]
  },
  {
   "cell_type": "code",
   "execution_count": 35,
   "id": "fdac95bb",
   "metadata": {},
   "outputs": [
    {
     "name": "stdout",
     "output_type": "stream",
     "text": [
      "The number of cluster is: 4\n"
     ]
    }
   ],
   "source": [
    "energy_mean1 = np.array(energy_mean).reshape(-1,1)\n",
    "energy_mean = pd.DataFrame(energy_mean)\n",
    "#energy_mean1 = np.array(np.mean(energy)).reshape(-1,1)\n",
    "scaler = StandardScaler().fit(energy_mean1)\n",
    "x_scaled = scaler.transform(energy_mean1)\n",
    "df_scaled = pd.DataFrame(x_scaled, columns = energy_mean.columns)\n",
    "\n",
    "error = list()  # to save error\n",
    "\n",
    "for k in range(1,10): \n",
    "    kmeans = KMeans(n_clusters=k) # init k-means object\n",
    "    kmeans.fit(x_scaled)  # run k-means!\n",
    "    \n",
    "    error.append(kmeans.inertia_) # save sum of squared error (SSE)\n",
    "kl = KneeLocator(range(1, 10), error, \n",
    "                 curve='convex', direction='decreasing')\n",
    "\n",
    "print('The number of cluster is: ' + str(kl.elbow))"
   ]
  },
  {
   "cell_type": "code",
   "execution_count": 36,
   "id": "1067140a",
   "metadata": {},
   "outputs": [
    {
     "data": {
      "image/png": "[encoded data removed]",
      "text/plain": [
       "<Figure size 432x288 with 9 Axes>"
      ]
     },
     "metadata": {
      "needs_background": "light"
     },
     "output_type": "display_data"
    }
   ],
   "source": [
    "#x=energy_mean.to_numpy().reshape(-1,1)\n",
    "energy_mean = np.mean(energy, axis=0)\n",
    "rate_mean = np.mean(rate, axis=0)\n",
    "x = np.column_stack((scale(rate_mean),scale(energy_mean)))\n",
    "numClusters = 9 # how many clusters are we looping over? (from 2 to 10)\n",
    "sSum = np.empty([numClusters,1])*np.NaN # init container to store sums\n",
    "\n",
    "# Compute kMeans for each k:\n",
    "for ii in range(2, numClusters+2): # Loop through each cluster (from 2 to 10)\n",
    "    kMeans = KMeans(n_clusters = int(ii)).fit(x) # compute kmeans using scikit\n",
    "    cId = kMeans.labels_ # vector of cluster IDs that the row belongs to\n",
    "    cCoords = kMeans.cluster_centers_ # coordinate location for center of each cluster\n",
    "    s = silhouette_samples(x,cId) # compute the mean silhouette coefficient of all samples\n",
    "    sSum[ii-2] = sum(s) # take the sum\n",
    "    # Plot data:\n",
    "    plt.subplot(3,3,ii-1) \n",
    "    plt.hist(s,bins=20) \n",
    "    plt.xlim(-0.2,1)\n",
    "    plt.ylim(0,20)\n",
    "    plt.xlabel('Silhouette score')\n",
    "    plt.ylabel('Count')\n",
    "    plt.title('Sum: {}'.format(int(sSum[ii-2]))) # sum rounded to nearest integer\n",
    "    plt.tight_layout() # adjusts subplot \n",
    "\n",
    "# Plot the sum of the silhouette scores as a function of the number of clusters, to make it clearer what is going on\n",
    "plt.plot(np.linspace(2,numClusters,9),sSum)\n",
    "plt.xlabel('Number of clusters')\n",
    "plt.ylabel('Sum of silhouette scores')\n",
    "plt.show()\n"
   ]
  },
  {
   "cell_type": "code",
   "execution_count": 37,
   "id": "6419f9e0",
   "metadata": {},
   "outputs": [
    {
     "data": {
      "image/png": "[encoded data removed]",
      "text/plain": [
       "<Figure size 432x288 with 1 Axes>"
      ]
     },
     "metadata": {
      "needs_background": "light"
     },
     "output_type": "display_data"
    }
   ],
   "source": [
    "#\n",
    "x=x.reshape(-1,1)\n",
    "numClusters = 9\n",
    "Q = np.empty([numClusters,1])*np.NaN \n",
    "\n",
    "# Compute kMeans:\n",
    "for ii in range(2, 11):\n",
    "    kMeans = KMeans(n_clusters = int(ii)).fit(x) \n",
    "    cId = kMeans.labels_ \n",
    "    cCoords = kMeans.cluster_centers_ \n",
    "    s = silhouette_samples(x,cId)\n",
    "    Q[ii-2] = sum(s)\n",
    "    \n",
    "plt.plot(np.linspace(2,11,9),sSum)\n",
    "plt.xlabel('Number of clusters')\n",
    "plt.ylabel('Sum of silhouette scores')\n",
    "plt.show()"
   ]
  },
  {
   "cell_type": "code",
   "execution_count": 38,
   "id": "2250ae2d",
   "metadata": {},
   "outputs": [
    {
     "data": {
      "image/png": "[encoded data removed]",
      "text/plain": [
       "<Figure size 432x288 with 1 Axes>"
      ]
     },
     "metadata": {
      "needs_background": "light"
     },
     "output_type": "display_data"
    }
   ],
   "source": [
    "# kMeans:\n",
    "ls = []\n",
    "x = np.column_stack((scale(np.mean(rate, axis=0)),scale(np.mean(energy, axis=0))))\n",
    "numClusters = 4\n",
    "kMeans = KMeans(n_clusters = numClusters).fit(x) \n",
    "cId = kMeans.labels_ \n",
    "cCoords = kMeans.cluster_centers_ \n",
    "\n",
    "# Plot the color-coded data:\n",
    "for ii in range(numClusters):\n",
    "    plotIndex = np.argwhere(cId == int(ii))\n",
    "    ls.append(x[plotIndex,:])\n",
    "    plt.plot(x[plotIndex,0],x[plotIndex,1],'o',markersize=3)\n",
    "    plt.plot(cCoords[int(ii-1),0],cCoords[int(ii-1),1],'o',markersize=5,color='black')  \n",
    "    plt.xlabel('Energy')\n",
    "    plt.ylabel('Rate')\n",
    "    #plt.legend()\n",
    "    "
   ]
  },
  {
   "cell_type": "code",
   "execution_count": 39,
   "id": "493c092a",
   "metadata": {},
   "outputs": [],
   "source": [
    "# 8) Considering only the first principal component of the self-image ratings as inputs to a regression model – how well can you predict art preference ratings from that factor alone?"
   ]
  },
  {
   "cell_type": "code",
   "execution_count": 40,
   "id": "ef83a66f",
   "metadata": {},
   "outputs": [],
   "source": [
    "rateimage = rate.join(image)\n",
    "rateimage = rateimage.dropna()\n",
    "rateimage = rateimage.iloc[:,0:91]\n",
    "rateimage = rateimage.to_numpy()"
   ]
  },
  {
   "cell_type": "code",
   "execution_count": 41,
   "id": "f158e7ef",
   "metadata": {},
   "outputs": [
    {
     "data": {
      "image/png": "[encoded data removed]",
      "text/plain": [
       "<Figure size 432x288 with 1 Axes>"
      ]
     },
     "metadata": {
      "needs_background": "light"
     },
     "output_type": "display_data"
    }
   ],
   "source": [
    "zscoredData = stats.zscore(image)\n",
    "pca = PCA().fit(zscoredData)\n",
    "eigVals = pca.explained_variance_\n",
    "loadings = pca.components_*-1\n",
    "origDataNewCoordinates = pca.fit_transform(zscoredData)*-1\n",
    "\n",
    "numPredictors = 10\n",
    "plt.bar(np.linspace(1,numPredictors,numPredictors),eigVals)\n",
    "plt.title('Scree plot')\n",
    "plt.xlabel('Principal Components')\n",
    "plt.ylabel('Eigenvalues')\n",
    "plt.show()"
   ]
  },
  {
   "cell_type": "code",
   "execution_count": 42,
   "id": "f957257a",
   "metadata": {},
   "outputs": [
    {
     "data": {
      "image/png": "[encoded data removed]",
      "text/plain": [
       "<Figure size 432x288 with 1 Axes>"
      ]
     },
     "metadata": {
      "needs_background": "light"
     },
     "output_type": "display_data"
    }
   ],
   "source": [
    "plt.bar(np.linspace(1,numPredictors,numPredictors),loadings[0,:])\n",
    "plt.title('image')\n",
    "plt.show()"
   ]
  },
  {
   "cell_type": "code",
   "execution_count": 43,
   "id": "ace15354",
   "metadata": {},
   "outputs": [
    {
     "data": {
      "image/png": "[encoded data removed]",
      "text/plain": [
       "<Figure size 432x288 with 1 Axes>"
      ]
     },
     "metadata": {
      "needs_background": "light"
     },
     "output_type": "display_data"
    }
   ],
   "source": [
    "plt.plot(origDataNewCoordinates[:,0],origDataNewCoordinates[:,1],'o',markersize=1)\n",
    "plt.xlabel('PC1')\n",
    "plt.ylabel('PC2')\n",
    "plt.show()"
   ]
  },
  {
   "cell_type": "code",
   "execution_count": 44,
   "id": "f4674bfa",
   "metadata": {},
   "outputs": [],
   "source": [
    "x = pca.fit_transform(rateimage)*-1\n",
    "y=np.mean(rateimage,axis=1)\n",
    "\n",
    "x_train,x_test,y_train,y_test = train_test_split(x,y,test_size=0.3,random_state=seed) \n",
    "\n",
    "scaler_x_train = StandardScaler().fit(x_train)\n",
    "scaler_x_test = StandardScaler().fit(x_test)\n",
    "\n",
    "x_train_trans = scaler_x_train.transform(x_train)\n",
    "x_test_trans = scaler_x_test.transform(x_test)\n",
    "\n",
    "x_train_fit = pca.fit_transform(x_train_trans)*-1\n",
    "x_test_fit = pca.transform(x_test_trans)*-1\n",
    "\n"
   ]
  },
  {
   "cell_type": "code",
   "execution_count": 45,
   "id": "5b219ec7",
   "metadata": {},
   "outputs": [
    {
     "name": "stdout",
     "output_type": "stream",
     "text": [
      "RMSE:0.6487406612566566\n"
     ]
    }
   ],
   "source": [
    "x_train_inv = scaler_x_train.inverse_transform(x_train_fit)\n",
    "x_train_fin = x_train_inv[:,:1]\n",
    "\n",
    "x_test_inv = scaler_x_train.inverse_transform(x_test_fit)\n",
    "x_test_fin = x_test_inv[:,:1]\n",
    "\n",
    "model = LinearRegression().fit(x_train_fin, y_train)\n",
    "\n",
    "RMSE = mean_squared_error(y_train, model.predict(x_train_fin), \n",
    "                          squared = False)\n",
    "print('RMSE:'+str(RMSE))\n"
   ]
  },
  {
   "cell_type": "code",
   "execution_count": 46,
   "id": "36882384",
   "metadata": {},
   "outputs": [
    {
     "data": {
      "image/png": "[encoded data removed]",
      "text/plain": [
       "<Figure size 432x288 with 2 Axes>"
      ]
     },
     "metadata": {
      "needs_background": "light"
     },
     "output_type": "display_data"
    }
   ],
   "source": [
    "corrMatrix1 = np.corrcoef(image, rowvar = False)\n",
    "# column-wise is appropirate to know how similar painting were answered.\n",
    "plt.imshow(corrMatrix1)\n",
    "plt.xlabel('image and rate')\n",
    "plt.ylabel('image and rate')\n",
    "plt.colorbar()\n",
    "\n",
    "plt.show()"
   ]
  },
  {
   "cell_type": "code",
   "execution_count": 47,
   "id": "01bd33dc",
   "metadata": {},
   "outputs": [
    {
     "data": {
      "text/plain": [
       "-0.05925153114333681"
      ]
     },
     "execution_count": 47,
     "metadata": {},
     "output_type": "execute_result"
    }
   ],
   "source": [
    "model.score(x_test_fin,y_test)"
   ]
  },
  {
   "cell_type": "code",
   "execution_count": 48,
   "id": "6797006b",
   "metadata": {},
   "outputs": [],
   "source": [
    "# 9) Consider the first 3 principal components of the “dark personality” traits – use these as inputs to a regression model to predict art preference ratings. Which of these components significantly predict art preference ratings? Comment on the likely identity of these factors (e.g. narcissism, manipulativeness, callousness, etc.). "
   ]
  },
  {
   "cell_type": "code",
   "execution_count": 49,
   "id": "ed32d6b4",
   "metadata": {},
   "outputs": [],
   "source": [
    "dark = data.iloc[:,182:194].dropna()\n"
   ]
  },
  {
   "cell_type": "code",
   "execution_count": 50,
   "id": "66152ba0",
   "metadata": {},
   "outputs": [
    {
     "data": {
      "image/png": "[encoded data removed]",
      "text/plain": [
       "<Figure size 432x288 with 2 Axes>"
      ]
     },
     "metadata": {
      "needs_background": "light"
     },
     "output_type": "display_data"
    }
   ],
   "source": [
    "corrMatrix1 = np.corrcoef(dark, rowvar = False)\n",
    "# column-wise is appropirate to know how similar painting were answered.\n",
    "plt.imshow(corrMatrix1)\n",
    "plt.xlabel('dark personality and rate')\n",
    "plt.ylabel('dark personality and rate')\n",
    "plt.colorbar()\n",
    "\n",
    "plt.show()"
   ]
  },
  {
   "cell_type": "code",
   "execution_count": 51,
   "id": "60c957a9",
   "metadata": {},
   "outputs": [
    {
     "data": {
      "image/png": "[encoded data removed]",
      "text/plain": [
       "<Figure size 432x288 with 1 Axes>"
      ]
     },
     "metadata": {
      "needs_background": "light"
     },
     "output_type": "display_data"
    }
   ],
   "source": [
    "zscoredData = stats.zscore(dark)\n",
    "pca = PCA().fit(zscoredData)\n",
    "eigVals = pca.explained_variance_\n",
    "loadings = pca.components_*-1\n",
    "origDataNewCoordinates = pca.fit_transform(zscoredData)*-1\n",
    "numPredictors = 12\n",
    "plt.bar(np.linspace(1,numPredictors,numPredictors),eigVals)\n",
    "plt.title('Scree plot')\n",
    "plt.xlabel('Principal Components')\n",
    "plt.ylabel('Eigenvalues')\n",
    "plt.show()"
   ]
  },
  {
   "cell_type": "code",
   "execution_count": 52,
   "id": "86b51ae8",
   "metadata": {},
   "outputs": [
    {
     "data": {
      "image/png": "[encoded data removed]",
      "text/plain": [
       "<Figure size 432x288 with 3 Axes>"
      ]
     },
     "metadata": {
      "needs_background": "light"
     },
     "output_type": "display_data"
    }
   ],
   "source": [
    "plt.subplot(1,3,1) # Factor 1: \n",
    "plt.bar(np.linspace(1,numPredictors,numPredictors),loadings[0,:]) # \"Challenges\"\n",
    "plt.title('narcissism')\n",
    "plt.subplot(1,3,2) # Factor 2:\n",
    "plt.bar(np.linspace(1,numPredictors,numPredictors),loadings[1,:]) # \"Support\"\n",
    "plt.title('manipulativeness')\n",
    "plt.subplot(1,3,3)\n",
    "plt.bar(np.linspace(1,numPredictors,numPredictors),loadings[2,:])\n",
    "plt.title('callousness')\n",
    "plt.show()"
   ]
  },
  {
   "cell_type": "code",
   "execution_count": 53,
   "id": "c7a4a6fb",
   "metadata": {},
   "outputs": [],
   "source": [
    "x = pca.fit_transform(dark)*-1\n",
    "rate_dark = pd.concat([rate,dark],axis=1).dropna()\n",
    "y=np.mean(rate_dark,axis=1)"
   ]
  },
  {
   "cell_type": "code",
   "execution_count": 54,
   "id": "3b08c2ad",
   "metadata": {},
   "outputs": [
    {
     "name": "stdout",
     "output_type": "stream",
     "text": [
      "Intercept 4.095911324257911\n",
      "Coefficient [-0.02359469  0.04883483  0.06653795 -0.02195448 -0.00199663  0.05619765\n",
      " -0.02981349  0.14362701 -0.0368169  -0.09537507  0.01851114 -0.00539727]\n"
     ]
    }
   ],
   "source": [
    "x_train, x_test, y_train, y_test = train_test_split(x,               # X matrix\n",
    "                                                    y,               # Y vector\n",
    "                                                    test_size=0.20,  # percent of data in test\n",
    "                                                    random_state=seed  # set random state \n",
    "                                                   )\n",
    "\n",
    "regressor = LinearRegression().fit(x_train, y_train)   \n",
    "\n",
    "print('Intercept', regressor.intercept_)        # Print the intercept\n",
    "print('Coefficient', regressor.coef_)           # Print the coefficient\n"
   ]
  },
  {
   "cell_type": "code",
   "execution_count": 55,
   "id": "d4093000",
   "metadata": {},
   "outputs": [
    {
     "data": {
      "text/plain": [
       "(4.076917817585122,\n",
       " array([-0.0273342 ,  0.052767  ,  0.07162473, -0.00579222,  0.02043085,\n",
       "         0.00227953, -0.03697892,  0.14005256, -0.05197097, -0.05967979,\n",
       "         0.03862776, -0.02621807]))"
      ]
     },
     "execution_count": 55,
     "metadata": {},
     "output_type": "execute_result"
    }
   ],
   "source": [
    "#x = np.array(x).reshape(-1,1)\n",
    "model = LinearRegression().fit(x,y)\n",
    "b0, b1 = model.intercept_, model.coef_\n",
    "b0, b1"
   ]
  },
  {
   "cell_type": "code",
   "execution_count": 56,
   "id": "76867f39",
   "metadata": {},
   "outputs": [
    {
     "data": {
      "text/plain": [
       "0.5111765563999069"
      ]
     },
     "execution_count": 56,
     "metadata": {},
     "output_type": "execute_result"
    }
   ],
   "source": [
    "RMSE = mean_squared_error(y_train, model.predict(x_train), \n",
    "                          squared = False)\n",
    "RMSE"
   ]
  },
  {
   "cell_type": "code",
   "execution_count": 57,
   "id": "fe28bdc8",
   "metadata": {},
   "outputs": [
    {
     "name": "stdout",
     "output_type": "stream",
     "text": [
      "RMSE: 0.5556023568032002\n"
     ]
    }
   ],
   "source": [
    "#PC1\n",
    "x_train,x_test,y_train,y_test = train_test_split(x,\n",
    "                                                 y,\n",
    "                                                 test_size=0.3,\n",
    "                                                 random_state=seed) \n",
    "\n",
    "scaler_x_train = StandardScaler().fit(x_train)\n",
    "scaler_x_test = StandardScaler().fit(x_test)\n",
    "\n",
    "x_train_trans = scaler_x_train.transform(x_train)\n",
    "x_test_trans = scaler_x_test.transform(x_test)\n",
    "\n",
    "x_train_fit = pca.fit_transform(x_train_trans)*-1\n",
    "x_test_fit = pca.transform(x_test_trans)*-1\n",
    "\n",
    "x_train_inv = scaler_x_train.inverse_transform(x_train_fit)\n",
    "x_train_fin = x_train_inv[:,0:1]\n",
    "\n",
    "x_test_inv = scaler_x_train.inverse_transform(x_test_fit)\n",
    "x_test_fin = x_test_inv[:,0:1]\n",
    "\n",
    "model = LinearRegression().fit(x_train_fin, y_train)\n",
    "b0, b1 = model.intercept_, model.coef_\n",
    "RMSE = mean_squared_error(y_train, model.predict(x_train_fin), \n",
    "                          squared = False)\n",
    "print('RMSE: '+str(RMSE))"
   ]
  },
  {
   "cell_type": "code",
   "execution_count": 58,
   "id": "25d7cf04",
   "metadata": {},
   "outputs": [
    {
     "data": {
      "text/plain": [
       "(4.0975555545224855, array([0.00549971]))"
      ]
     },
     "execution_count": 58,
     "metadata": {},
     "output_type": "execute_result"
    }
   ],
   "source": [
    "b0, b1"
   ]
  },
  {
   "cell_type": "code",
   "execution_count": 59,
   "id": "061f934b",
   "metadata": {},
   "outputs": [
    {
     "name": "stdout",
     "output_type": "stream",
     "text": [
      "RMSE: 0.5517490294974274\n"
     ]
    }
   ],
   "source": [
    "#PC2\n",
    "x_train,x_test,y_train,y_test = train_test_split(x,\n",
    "                                                 y,\n",
    "                                                 test_size=0.3,\n",
    "                                                 random_state=seed) \n",
    "\n",
    "scaler_x_train = StandardScaler().fit(x_train)\n",
    "scaler_x_test = StandardScaler().fit(x_test)\n",
    "\n",
    "x_train_trans = scaler_x_train.transform(x_train)\n",
    "x_test_trans = scaler_x_test.transform(x_test)\n",
    "\n",
    "x_train_fit = pca.fit_transform(x_train_trans)*-1\n",
    "x_test_fit = pca.transform(x_test_trans)*-1\n",
    "\n",
    "x_train_inv = scaler_x_train.inverse_transform(x_train_fit)\n",
    "x_train_fin = x_train_inv[:,1:2]\n",
    "\n",
    "x_test_inv = scaler_x_train.inverse_transform(x_test_fit)\n",
    "x_test_fin = x_test_inv[:,1:2]\n",
    "\n",
    "model = LinearRegression().fit(x_train_fin, y_train)\n",
    "b0, b1 = model.intercept_, model.coef_\n",
    "RMSE = mean_squared_error(y_train, model.predict(x_train_fin), \n",
    "                          squared = False)\n",
    "print('RMSE: '+str(RMSE))"
   ]
  },
  {
   "cell_type": "code",
   "execution_count": 60,
   "id": "9a64122f",
   "metadata": {},
   "outputs": [
    {
     "data": {
      "text/plain": [
       "(4.094033312438195, array([0.04282172]))"
      ]
     },
     "execution_count": 60,
     "metadata": {},
     "output_type": "execute_result"
    }
   ],
   "source": [
    "b0, b1"
   ]
  },
  {
   "cell_type": "code",
   "execution_count": 61,
   "id": "6033fb78",
   "metadata": {},
   "outputs": [
    {
     "name": "stdout",
     "output_type": "stream",
     "text": [
      "RMSE: 0.553254884171123\n"
     ]
    }
   ],
   "source": [
    "#PC3\n",
    "x_train,x_test,y_train,y_test = train_test_split(x,\n",
    "                                                 y,\n",
    "                                                 test_size=0.3,\n",
    "                                                 random_state=seed) \n",
    "\n",
    "scaler_x_train = StandardScaler().fit(x_train)\n",
    "scaler_x_test = StandardScaler().fit(x_test)\n",
    "\n",
    "x_train_trans = scaler_x_train.transform(x_train)\n",
    "x_test_trans = scaler_x_test.transform(x_test)\n",
    "\n",
    "x_train_fit = pca.fit_transform(x_train_trans)*-1\n",
    "x_test_fit = pca.transform(x_test_trans)*-1\n",
    "\n",
    "x_train_inv = scaler_x_train.inverse_transform(x_train_fit)\n",
    "x_train_fin = x_train_inv[:,2:3]\n",
    "\n",
    "x_test_inv = scaler_x_train.inverse_transform(x_test_fit)\n",
    "x_test_fin = x_test_inv[:,2:3]\n",
    "\n",
    "model = LinearRegression().fit(x_train_fin, y_train)\n",
    "b0, b1 = model.intercept_, model.coef_\n",
    "RMSE = mean_squared_error(y_train, model.predict(x_train_fin), \n",
    "                          squared = False)\n",
    "print('RMSE: '+str(RMSE))"
   ]
  },
  {
   "cell_type": "code",
   "execution_count": 62,
   "id": "95b1c7cd",
   "metadata": {},
   "outputs": [
    {
     "data": {
      "text/plain": [
       "(4.10164831841852, array([0.03937008]))"
      ]
     },
     "execution_count": 62,
     "metadata": {},
     "output_type": "execute_result"
    }
   ],
   "source": [
    "b0, b1"
   ]
  },
  {
   "cell_type": "code",
   "execution_count": 63,
   "id": "89a9a6f6",
   "metadata": {},
   "outputs": [
    {
     "data": {
      "text/plain": [
       "1.2405290935458382"
      ]
     },
     "execution_count": 63,
     "metadata": {},
     "output_type": "execute_result"
    }
   ],
   "source": [
    "x=dark\n",
    "y=rate_dark\n",
    "\n",
    "\n",
    "x_train, x_test, y_train, y_test = train_test_split(x,               # X matrix\n",
    "                                                    y,               # Y vector\n",
    "                                                    test_size=0.20,  # percent of data in test\n",
    "                                                    random_state=seed  # set random state \n",
    "                                                   )\n",
    "\n",
    "regressor = LinearRegression().fit(x_train, y_train)   \n",
    "\n",
    "#print('Intercept', regressor.intercept_)# Print the intercept\n",
    "#print('Coefficient', regressor.coef_)   # Print the coefficient\n",
    "\n",
    "\n",
    "model = LinearRegression().fit(x,y)\n",
    "b0, b1 = model.intercept_, model.coef_\n",
    "\n",
    "RMSE = mean_squared_error(y_train, model.predict(x_train), \n",
    "                          squared = False)\n",
    "RMSE\n"
   ]
  },
  {
   "cell_type": "code",
   "execution_count": 64,
   "id": "223f4ff8",
   "metadata": {},
   "outputs": [],
   "source": [
    "# 10) Can you determine the political orientation of the users (to simplify things and avoid gross class imbalance issues, you can consider just 2 classes: “left” (progressive & liberal) vs. “nonleft” (everyone else)) from all the other information available, using any classification model of your choice? Make sure to comment on the classification quality of this model. "
   ]
  },
  {
   "cell_type": "code",
   "execution_count": 65,
   "id": "96abd4d5",
   "metadata": {},
   "outputs": [
    {
     "data": {
      "image/png": "[encoded data removed]",
      "text/plain": [
       "<Figure size 432x288 with 1 Axes>"
      ]
     },
     "metadata": {
      "needs_background": "light"
     },
     "output_type": "display_data"
    }
   ],
   "source": [
    "energy_predictor = pd.DataFrame(data.loc[:,91:181])\n",
    "x = energy_predictor.to_numpy()\n",
    "zscoredData = stats.zscore(energy_predictor)\n",
    "pca = PCA().fit(energy_predictor)\n",
    "eigVals = pca.explained_variance_\n",
    "\n",
    "loadings = pca.components_*-1\n",
    "origDataNewCoordinates = pca.fit_transform(energy_predictor)*-1\n",
    "# Scree plot:\n",
    "numPredictors = 91\n",
    "plt.bar(np.linspace(1,numPredictors,numPredictors),eigVals)\n",
    "plt.title('Scree plot')\n",
    "plt.axhline(y = 1, color = 'orange', linestyle = '-')\n",
    "plt.xlabel('Principal Components')\n",
    "plt.ylabel('Eigenvalues')\n",
    "plt.show()"
   ]
  },
  {
   "cell_type": "code",
   "execution_count": 66,
   "id": "97b2aaeb",
   "metadata": {},
   "outputs": [
    {
     "data": {
      "image/png": "[encoded data removed]",
      "text/plain": [
       "<Figure size 432x288 with 1 Axes>"
      ]
     },
     "metadata": {
      "needs_background": "light"
     },
     "output_type": "display_data"
    }
   ],
   "source": [
    "rate_predictor = pd.DataFrame(rate.loc[:,0:90])\n",
    "x = rate_predictor.to_numpy()\n",
    "zscoredData = stats.zscore(rate_predictor)\n",
    "pca = PCA().fit(rate_predictor)\n",
    "eigVals = pca.explained_variance_\n",
    "\n",
    "loadings = pca.components_*-1\n",
    "origDataNewCoordinates = pca.fit_transform(rate_predictor)*-1\n",
    "# Scree plot:\n",
    "numPredictors = 91\n",
    "plt.bar(np.linspace(1,numPredictors,numPredictors),eigVals)\n",
    "plt.title('Rate Scree plot')\n",
    "plt.axhline(y = 1, color = 'orange', linestyle = '-')\n",
    "plt.xlabel('Principal Components')\n",
    "plt.ylabel('Eigenvalues')\n",
    "plt.show()"
   ]
  },
  {
   "cell_type": "code",
   "execution_count": 67,
   "id": "09e113ce",
   "metadata": {},
   "outputs": [
    {
     "data": {
      "image/png": "[encoded data removed]",
      "text/plain": [
       "<Figure size 432x288 with 1 Axes>"
      ]
     },
     "metadata": {
      "needs_background": "light"
     },
     "output_type": "display_data"
    }
   ],
   "source": [
    "energy_predictor = pd.DataFrame(data.loc[:,91:181])\n",
    "x = energy_predictor.to_numpy()\n",
    "zscoredData = stats.zscore(energy_predictor)\n",
    "pca = PCA().fit(energy_predictor)\n",
    "eigVals = pca.explained_variance_\n",
    "\n",
    "loadings = pca.components_*-1\n",
    "origDataNewCoordinates = pca.fit_transform(energy_predictor)*-1\n",
    "# Scree plot:\n",
    "numPredictors = 91\n",
    "plt.bar(np.linspace(1,numPredictors,numPredictors),eigVals)\n",
    "plt.title('Energy Scree plot')\n",
    "plt.axhline(y = 1, color = 'orange', linestyle = '-')\n",
    "plt.xlabel('Principal Components')\n",
    "plt.ylabel('Eigenvalues')\n",
    "plt.show()"
   ]
  },
  {
   "cell_type": "code",
   "execution_count": 68,
   "id": "861a0111",
   "metadata": {},
   "outputs": [],
   "source": [
    "data_drop = data.dropna()\n",
    "data_drop = data_drop.iloc[:,0:217].to_numpy()"
   ]
  },
  {
   "cell_type": "code",
   "execution_count": 69,
   "id": "cd46b296",
   "metadata": {},
   "outputs": [
    {
     "data": {
      "image/png": "[encoded data removed]",
      "text/plain": [
       "<Figure size 432x288 with 1 Axes>"
      ]
     },
     "metadata": {
      "needs_background": "light"
     },
     "output_type": "display_data"
    }
   ],
   "source": [
    "zscoredData = stats.zscore(data_drop)\n",
    "pca = PCA().fit(data_drop)\n",
    "eigVals = pca.explained_variance_\n",
    "\n",
    "loadings = pca.components_*-1\n",
    "origDataNewCoordinates = pca.fit_transform(data_drop)*-1\n",
    "#Scree plot:\n",
    "numPredictors = 217\n",
    "plt.bar(np.linspace(1,numPredictors,numPredictors),eigVals,align = 'center')\n",
    "plt.title('All Scree plot')\n",
    "plt.axhline(y = 1, color = 'orange', linestyle = '-')\n",
    "plt.xlabel('Principal Components')\n",
    "plt.ylabel('Eigenvalues')\n",
    "plt.show()\n"
   ]
  },
  {
   "cell_type": "code",
   "execution_count": 70,
   "id": "ef1edfbf",
   "metadata": {},
   "outputs": [],
   "source": [
    "x = energy_predictor.to_numpy()\n",
    "y = political2\n",
    "\n",
    "\n",
    "\n",
    "\n",
    "\n",
    "x_train,x_test,y_train,y_test = train_test_split(x,y,test_size=0.3,random_state=seed) \n",
    "\n",
    "scaler_x_train = StandardScaler().fit(x_train)\n",
    "scaler_x_test = StandardScaler().fit(x_test)\n",
    "\n",
    "x_train_trans = scaler_x_train.transform(x_train)\n",
    "x_test_trans = scaler_x_test.transform(x_test)\n",
    "\n",
    "x_train_fit = pca.fit_transform(x_train_trans)*-1\n",
    "x_test_fit = pca.transform(x_test_trans)*-1\n",
    "\n"
   ]
  },
  {
   "cell_type": "code",
   "execution_count": 71,
   "id": "7dbb7adb",
   "metadata": {},
   "outputs": [],
   "source": [
    "\n",
    "x_train_inv = scaler_x_train.inverse_transform(x_train_fit)\n",
    "x_train_fin = x_train_inv[:,:20]\n",
    "\n",
    "x_test_inv = scaler_x_train.inverse_transform(x_test_fit)\n",
    "x_test_fin = x_test_inv[:,:20]"
   ]
  },
  {
   "cell_type": "code",
   "execution_count": 72,
   "id": "d927b621",
   "metadata": {},
   "outputs": [
    {
     "data": {
      "text/plain": [
       "LogisticRegression()"
      ]
     },
     "execution_count": 72,
     "metadata": {},
     "output_type": "execute_result"
    }
   ],
   "source": [
    "model = LogisticRegression()\n",
    "model.fit(x_train_fin, y_train)"
   ]
  },
  {
   "cell_type": "code",
   "execution_count": 73,
   "id": "5582ac6d",
   "metadata": {},
   "outputs": [
    {
     "data": {
      "text/plain": [
       "0.6333333333333333"
      ]
     },
     "execution_count": 73,
     "metadata": {},
     "output_type": "execute_result"
    }
   ],
   "source": [
    "model.score(x_train_fin,y_train)"
   ]
  },
  {
   "cell_type": "code",
   "execution_count": 74,
   "id": "64404a4c",
   "metadata": {},
   "outputs": [
    {
     "data": {
      "text/plain": [
       "0.6222222222222222"
      ]
     },
     "execution_count": 74,
     "metadata": {},
     "output_type": "execute_result"
    }
   ],
   "source": [
    "model.score(x_test_fin,y_test)"
   ]
  },
  {
   "cell_type": "code",
   "execution_count": 75,
   "id": "de8b8e47",
   "metadata": {},
   "outputs": [
    {
     "data": {
      "text/plain": [
       "0.6055300708194983"
      ]
     },
     "execution_count": 75,
     "metadata": {},
     "output_type": "execute_result"
    }
   ],
   "source": [
    "RMSE = mean_squared_error(y_train, model.predict(x_train_fin), \n",
    "                          squared = False)\n",
    "RMSE"
   ]
  },
  {
   "cell_type": "code",
   "execution_count": null,
   "id": "2054bf4f",
   "metadata": {},
   "outputs": [],
   "source": []
  }
 ],
 "metadata": {
  "kernelspec": {
   "display_name": "Python 3 (ipykernel)",
   "language": "python",
   "name": "python3"
  },
  "language_info": {
   "codemirror_mode": {
    "name": "ipython",
    "version": 3
   },
   "file_extension": ".py",
   "mimetype": "text/x-python",
   "name": "python",
   "nbconvert_exporter": "python",
   "pygments_lexer": "ipython3",
   "version": "3.9.12"
  }
 },
 "nbformat": 4,
 "nbformat_minor": 5
}
