{
 "cells": [
  {
   "cell_type": "code",
   "execution_count": 1,
   "id": "d8eaf91e",
   "metadata": {},
   "outputs": [],
   "source": [
    "import numpy as np\n",
    "import pandas as pd\n",
    "import matplotlib.pyplot as plt\n",
    "from sklearn.linear_model import LinearRegression\n",
    "from scipy import stats\n",
    "from scipy.stats import ttest_ind"
   ]
  },
  {
   "cell_type": "code",
   "execution_count": 2,
   "id": "b963651f",
   "metadata": {},
   "outputs": [
    {
     "data": {
      "text/html": [
       "<div>\n",
       "<style scoped>\n",
       "    .dataframe tbody tr th:only-of-type {\n",
       "        vertical-align: middle;\n",
       "    }\n",
       "\n",
       "    .dataframe tbody tr th {\n",
       "        vertical-align: top;\n",
       "    }\n",
       "\n",
       "    .dataframe thead th {\n",
       "        text-align: right;\n",
       "    }\n",
       "</style>\n",
       "<table border=\"1\" class=\"dataframe\">\n",
       "  <thead>\n",
       "    <tr style=\"text-align: right;\">\n",
       "      <th></th>\n",
       "      <th>Narcissism</th>\n",
       "      <th>Machiavellianism</th>\n",
       "      <th>Psychopathy</th>\n",
       "    </tr>\n",
       "  </thead>\n",
       "  <tbody>\n",
       "    <tr>\n",
       "      <th>0</th>\n",
       "      <td>3</td>\n",
       "      <td>38</td>\n",
       "      <td>6</td>\n",
       "    </tr>\n",
       "    <tr>\n",
       "      <th>1</th>\n",
       "      <td>14</td>\n",
       "      <td>57</td>\n",
       "      <td>7</td>\n",
       "    </tr>\n",
       "    <tr>\n",
       "      <th>2</th>\n",
       "      <td>5</td>\n",
       "      <td>33</td>\n",
       "      <td>4</td>\n",
       "    </tr>\n",
       "    <tr>\n",
       "      <th>3</th>\n",
       "      <td>26</td>\n",
       "      <td>57</td>\n",
       "      <td>9</td>\n",
       "    </tr>\n",
       "    <tr>\n",
       "      <th>4</th>\n",
       "      <td>22</td>\n",
       "      <td>80</td>\n",
       "      <td>13</td>\n",
       "    </tr>\n",
       "    <tr>\n",
       "      <th>...</th>\n",
       "      <td>...</td>\n",
       "      <td>...</td>\n",
       "      <td>...</td>\n",
       "    </tr>\n",
       "    <tr>\n",
       "      <th>22495</th>\n",
       "      <td>10</td>\n",
       "      <td>37</td>\n",
       "      <td>16</td>\n",
       "    </tr>\n",
       "    <tr>\n",
       "      <th>22496</th>\n",
       "      <td>10</td>\n",
       "      <td>43</td>\n",
       "      <td>5</td>\n",
       "    </tr>\n",
       "    <tr>\n",
       "      <th>22497</th>\n",
       "      <td>16</td>\n",
       "      <td>84</td>\n",
       "      <td>10</td>\n",
       "    </tr>\n",
       "    <tr>\n",
       "      <th>22498</th>\n",
       "      <td>15</td>\n",
       "      <td>60</td>\n",
       "      <td>9</td>\n",
       "    </tr>\n",
       "    <tr>\n",
       "      <th>22499</th>\n",
       "      <td>6</td>\n",
       "      <td>41</td>\n",
       "      <td>6</td>\n",
       "    </tr>\n",
       "  </tbody>\n",
       "</table>\n",
       "<p>22500 rows × 3 columns</p>\n",
       "</div>"
      ],
      "text/plain": [
       "       Narcissism  Machiavellianism  Psychopathy\n",
       "0               3                38            6\n",
       "1              14                57            7\n",
       "2               5                33            4\n",
       "3              26                57            9\n",
       "4              22                80           13\n",
       "...           ...               ...          ...\n",
       "22495          10                37           16\n",
       "22496          10                43            5\n",
       "22497          16                84           10\n",
       "22498          15                60            9\n",
       "22499           6                41            6\n",
       "\n",
       "[22500 rows x 3 columns]"
      ]
     },
     "execution_count": 2,
     "metadata": {},
     "output_type": "execute_result"
    }
   ],
   "source": [
    "dark = pd.read_csv('DarkTriad.csv')\n",
    "dark"
   ]
  },
  {
   "cell_type": "code",
   "execution_count": 29,
   "id": "b6388e47",
   "metadata": {},
   "outputs": [
    {
     "data": {
      "text/plain": [
       "78.397212543554"
      ]
     },
     "execution_count": 29,
     "metadata": {},
     "output_type": "execute_result"
    }
   ],
   "source": [
    "#dark.loc[:,(dark['Narcissism']>20& dark['Machiavellianism']>80 &dark['Psychopathy']>30).all()]\n",
    "\n",
    "\n",
    "#dark1=dark.loc[dark['Narcissism'] >20]\n",
    "#dark2=dark1.loc[dark['Machiavellianism']>80]\n",
    "dark3=dark.loc[dark['Psychopathy']>30]\n",
    "len(dark)/len(dark3)\n",
    "22500/287"
   ]
  },
  {
   "cell_type": "code",
   "execution_count": 4,
   "id": "2adeb801",
   "metadata": {},
   "outputs": [
    {
     "data": {
      "text/plain": [
       "0         3\n",
       "1        14\n",
       "2         5\n",
       "3        26\n",
       "4        22\n",
       "         ..\n",
       "22495    10\n",
       "22496    10\n",
       "22497    16\n",
       "22498    15\n",
       "22499     6\n",
       "Name: Narcissism, Length: 22500, dtype: int64"
      ]
     },
     "execution_count": 4,
     "metadata": {},
     "output_type": "execute_result"
    }
   ],
   "source": [
    "m = dark['Narcissism']\n",
    "m"
   ]
  },
  {
   "cell_type": "code",
   "execution_count": 30,
   "id": "0a1a3581",
   "metadata": {},
   "outputs": [
    {
     "data": {
      "text/html": [
       "<div>\n",
       "<style scoped>\n",
       "    .dataframe tbody tr th:only-of-type {\n",
       "        vertical-align: middle;\n",
       "    }\n",
       "\n",
       "    .dataframe tbody tr th {\n",
       "        vertical-align: top;\n",
       "    }\n",
       "\n",
       "    .dataframe thead th {\n",
       "        text-align: right;\n",
       "    }\n",
       "</style>\n",
       "<table border=\"1\" class=\"dataframe\">\n",
       "  <thead>\n",
       "    <tr style=\"text-align: right;\">\n",
       "      <th></th>\n",
       "      <th>CasteMembership</th>\n",
       "      <th>Intelligence</th>\n",
       "      <th>BrainMass</th>\n",
       "      <th>HoursWorked</th>\n",
       "      <th>AnnualIncome</th>\n",
       "    </tr>\n",
       "  </thead>\n",
       "  <tbody>\n",
       "    <tr>\n",
       "      <th>0</th>\n",
       "      <td>4</td>\n",
       "      <td>137.391890</td>\n",
       "      <td>2852.08060</td>\n",
       "      <td>35</td>\n",
       "      <td>831.21167</td>\n",
       "    </tr>\n",
       "    <tr>\n",
       "      <th>1</th>\n",
       "      <td>5</td>\n",
       "      <td>128.251290</td>\n",
       "      <td>3171.96430</td>\n",
       "      <td>25</td>\n",
       "      <td>716.69837</td>\n",
       "    </tr>\n",
       "    <tr>\n",
       "      <th>2</th>\n",
       "      <td>5</td>\n",
       "      <td>126.626470</td>\n",
       "      <td>3132.57250</td>\n",
       "      <td>27</td>\n",
       "      <td>566.60070</td>\n",
       "    </tr>\n",
       "    <tr>\n",
       "      <th>3</th>\n",
       "      <td>5</td>\n",
       "      <td>109.101120</td>\n",
       "      <td>2741.38790</td>\n",
       "      <td>21</td>\n",
       "      <td>316.95241</td>\n",
       "    </tr>\n",
       "    <tr>\n",
       "      <th>4</th>\n",
       "      <td>5</td>\n",
       "      <td>145.052600</td>\n",
       "      <td>3083.21050</td>\n",
       "      <td>32</td>\n",
       "      <td>629.60753</td>\n",
       "    </tr>\n",
       "    <tr>\n",
       "      <th>...</th>\n",
       "      <td>...</td>\n",
       "      <td>...</td>\n",
       "      <td>...</td>\n",
       "      <td>...</td>\n",
       "      <td>...</td>\n",
       "    </tr>\n",
       "    <tr>\n",
       "      <th>2995</th>\n",
       "      <td>3</td>\n",
       "      <td>100.173780</td>\n",
       "      <td>2035.77180</td>\n",
       "      <td>23</td>\n",
       "      <td>605.64873</td>\n",
       "    </tr>\n",
       "    <tr>\n",
       "      <th>2996</th>\n",
       "      <td>4</td>\n",
       "      <td>102.691150</td>\n",
       "      <td>2281.84070</td>\n",
       "      <td>13</td>\n",
       "      <td>510.60138</td>\n",
       "    </tr>\n",
       "    <tr>\n",
       "      <th>2997</th>\n",
       "      <td>4</td>\n",
       "      <td>105.236690</td>\n",
       "      <td>1785.58820</td>\n",
       "      <td>25</td>\n",
       "      <td>789.34258</td>\n",
       "    </tr>\n",
       "    <tr>\n",
       "      <th>2998</th>\n",
       "      <td>2</td>\n",
       "      <td>73.879524</td>\n",
       "      <td>926.98591</td>\n",
       "      <td>37</td>\n",
       "      <td>856.41296</td>\n",
       "    </tr>\n",
       "    <tr>\n",
       "      <th>2999</th>\n",
       "      <td>2</td>\n",
       "      <td>98.598173</td>\n",
       "      <td>1757.53480</td>\n",
       "      <td>47</td>\n",
       "      <td>651.79340</td>\n",
       "    </tr>\n",
       "  </tbody>\n",
       "</table>\n",
       "<p>3000 rows × 5 columns</p>\n",
       "</div>"
      ],
      "text/plain": [
       "      CasteMembership  Intelligence   BrainMass  HoursWorked  AnnualIncome\n",
       "0                   4    137.391890  2852.08060           35     831.21167\n",
       "1                   5    128.251290  3171.96430           25     716.69837\n",
       "2                   5    126.626470  3132.57250           27     566.60070\n",
       "3                   5    109.101120  2741.38790           21     316.95241\n",
       "4                   5    145.052600  3083.21050           32     629.60753\n",
       "...               ...           ...         ...          ...           ...\n",
       "2995                3    100.173780  2035.77180           23     605.64873\n",
       "2996                4    102.691150  2281.84070           13     510.60138\n",
       "2997                4    105.236690  1785.58820           25     789.34258\n",
       "2998                2     73.879524   926.98591           37     856.41296\n",
       "2999                2     98.598173  1757.53480           47     651.79340\n",
       "\n",
       "[3000 rows x 5 columns]"
      ]
     },
     "execution_count": 30,
     "metadata": {},
     "output_type": "execute_result"
    }
   ],
   "source": [
    "sojow = pd.read_csv('Sojow.csv')\n",
    "intelligence = sojow[['Intelligence']]\n",
    "brain = sojow[['BrainMass']]\n",
    "sojow"
   ]
  },
  {
   "cell_type": "code",
   "execution_count": 6,
   "id": "de6f6de3",
   "metadata": {},
   "outputs": [
    {
     "name": "stdout",
     "output_type": "stream",
     "text": [
      "Intercept [48.81579995]\n",
      "Coefficient [[0.02540211]]\n"
     ]
    }
   ],
   "source": [
    "model = LinearRegression().fit(brain, intelligence)   \n",
    "\n",
    "print('Intercept', model.intercept_)        # Print the intercept\n",
    "print('Coefficient', model.coef_)           # Print the coefficient"
   ]
  },
  {
   "cell_type": "code",
   "execution_count": 31,
   "id": "07114781",
   "metadata": {},
   "outputs": [
    {
     "data": {
      "text/plain": [
       "112.305275"
      ]
     },
     "execution_count": 31,
     "metadata": {},
     "output_type": "execute_result"
    }
   ],
   "source": [
    "2500*0.02540211+48.8"
   ]
  },
  {
   "cell_type": "code",
   "execution_count": 8,
   "id": "3894ee02",
   "metadata": {},
   "outputs": [
    {
     "name": "stderr",
     "output_type": "stream",
     "text": [
      "/var/folders/3y/jh01kr7x6kj5gsrldxy4w_r40000gn/T/ipykernel_58006/2649801615.py:1: ParserWarning: Falling back to the 'python' engine because the 'c' engine does not support regex separators (separators > 1 char and different from '\\s+' are interpreted as regex); you can avoid this warning by specifying engine='python'.\n",
      "  cloak0 = pd.read_table('InvisibilityCloak.txt', delimiter = '\\t0\\t')\n"
     ]
    },
    {
     "data": {
      "text/plain": [
       "Participant\\tCloak\\tMischief    1.5\n",
       "dtype: float64"
      ]
     },
     "execution_count": 8,
     "metadata": {},
     "output_type": "execute_result"
    }
   ],
   "source": [
    "cloak0 = pd.read_table('InvisibilityCloak.txt', delimiter = '\\t0\\t')\n",
    "cloak0.mad()"
   ]
  },
  {
   "cell_type": "code",
   "execution_count": 9,
   "id": "1584db1c",
   "metadata": {},
   "outputs": [
    {
     "name": "stderr",
     "output_type": "stream",
     "text": [
      "/var/folders/3y/jh01kr7x6kj5gsrldxy4w_r40000gn/T/ipykernel_58006/4059451164.py:1: ParserWarning: Falling back to the 'python' engine because the 'c' engine does not support regex separators (separators > 1 char and different from '\\s+' are interpreted as regex); you can avoid this warning by specifying engine='python'.\n",
      "  cloak = pd.read_table('InvisibilityCloak.txt', delimiter = '\\t1\\t ')\n"
     ]
    },
    {
     "data": {
      "text/html": [
       "<div>\n",
       "<style scoped>\n",
       "    .dataframe tbody tr th:only-of-type {\n",
       "        vertical-align: middle;\n",
       "    }\n",
       "\n",
       "    .dataframe tbody tr th {\n",
       "        vertical-align: top;\n",
       "    }\n",
       "\n",
       "    .dataframe thead th {\n",
       "        text-align: right;\n",
       "    }\n",
       "</style>\n",
       "<table border=\"1\" class=\"dataframe\">\n",
       "  <thead>\n",
       "    <tr style=\"text-align: right;\">\n",
       "      <th></th>\n",
       "      <th>Participant\\tCloak\\tMischief</th>\n",
       "    </tr>\n",
       "  </thead>\n",
       "  <tbody>\n",
       "    <tr>\n",
       "      <th>0</th>\n",
       "      <td>1\\t0\\t3</td>\n",
       "    </tr>\n",
       "    <tr>\n",
       "      <th>1</th>\n",
       "      <td>2\\t0\\t1</td>\n",
       "    </tr>\n",
       "    <tr>\n",
       "      <th>2</th>\n",
       "      <td>3\\t0\\t5</td>\n",
       "    </tr>\n",
       "    <tr>\n",
       "      <th>3</th>\n",
       "      <td>4\\t0\\t4</td>\n",
       "    </tr>\n",
       "    <tr>\n",
       "      <th>4</th>\n",
       "      <td>5\\t0\\t6</td>\n",
       "    </tr>\n",
       "    <tr>\n",
       "      <th>5</th>\n",
       "      <td>6\\t0\\t4</td>\n",
       "    </tr>\n",
       "    <tr>\n",
       "      <th>6</th>\n",
       "      <td>7\\t0\\t6</td>\n",
       "    </tr>\n",
       "    <tr>\n",
       "      <th>7</th>\n",
       "      <td>8\\t0\\t2</td>\n",
       "    </tr>\n",
       "    <tr>\n",
       "      <th>8</th>\n",
       "      <td>9\\t0\\t0</td>\n",
       "    </tr>\n",
       "    <tr>\n",
       "      <th>9</th>\n",
       "      <td>10\\t0\\t5</td>\n",
       "    </tr>\n",
       "    <tr>\n",
       "      <th>10</th>\n",
       "      <td>11\\t0\\t4</td>\n",
       "    </tr>\n",
       "    <tr>\n",
       "      <th>11</th>\n",
       "      <td>12\\t0\\t5</td>\n",
       "    </tr>\n",
       "    <tr>\n",
       "      <th>12</th>\n",
       "      <td>13\\t1\\t4</td>\n",
       "    </tr>\n",
       "    <tr>\n",
       "      <th>13</th>\n",
       "      <td>14\\t1\\t3</td>\n",
       "    </tr>\n",
       "    <tr>\n",
       "      <th>14</th>\n",
       "      <td>15\\t1\\t6</td>\n",
       "    </tr>\n",
       "    <tr>\n",
       "      <th>15</th>\n",
       "      <td>16\\t1\\t6</td>\n",
       "    </tr>\n",
       "    <tr>\n",
       "      <th>16</th>\n",
       "      <td>17\\t1\\t8</td>\n",
       "    </tr>\n",
       "    <tr>\n",
       "      <th>17</th>\n",
       "      <td>18\\t1\\t5</td>\n",
       "    </tr>\n",
       "    <tr>\n",
       "      <th>18</th>\n",
       "      <td>19\\t1\\t5</td>\n",
       "    </tr>\n",
       "    <tr>\n",
       "      <th>19</th>\n",
       "      <td>20\\t1\\t4</td>\n",
       "    </tr>\n",
       "    <tr>\n",
       "      <th>20</th>\n",
       "      <td>21\\t1\\t2</td>\n",
       "    </tr>\n",
       "    <tr>\n",
       "      <th>21</th>\n",
       "      <td>22\\t1\\t5</td>\n",
       "    </tr>\n",
       "    <tr>\n",
       "      <th>22</th>\n",
       "      <td>23\\t1\\t7</td>\n",
       "    </tr>\n",
       "    <tr>\n",
       "      <th>23</th>\n",
       "      <td>24\\t1\\t5</td>\n",
       "    </tr>\n",
       "  </tbody>\n",
       "</table>\n",
       "</div>"
      ],
      "text/plain": [
       "   Participant\\tCloak\\tMischief\n",
       "0                       1\\t0\\t3\n",
       "1                       2\\t0\\t1\n",
       "2                       3\\t0\\t5\n",
       "3                       4\\t0\\t4\n",
       "4                       5\\t0\\t6\n",
       "5                       6\\t0\\t4\n",
       "6                       7\\t0\\t6\n",
       "7                       8\\t0\\t2\n",
       "8                       9\\t0\\t0\n",
       "9                      10\\t0\\t5\n",
       "10                     11\\t0\\t4\n",
       "11                     12\\t0\\t5\n",
       "12                     13\\t1\\t4\n",
       "13                     14\\t1\\t3\n",
       "14                     15\\t1\\t6\n",
       "15                     16\\t1\\t6\n",
       "16                     17\\t1\\t8\n",
       "17                     18\\t1\\t5\n",
       "18                     19\\t1\\t5\n",
       "19                     20\\t1\\t4\n",
       "20                     21\\t1\\t2\n",
       "21                     22\\t1\\t5\n",
       "22                     23\\t1\\t7\n",
       "23                     24\\t1\\t5"
      ]
     },
     "execution_count": 9,
     "metadata": {},
     "output_type": "execute_result"
    }
   ],
   "source": [
    "cloak = pd.read_table('InvisibilityCloak.txt', delimiter = '\\t1\\t ')\n",
    "cloak"
   ]
  },
  {
   "cell_type": "code",
   "execution_count": 10,
   "id": "601196e7",
   "metadata": {},
   "outputs": [
    {
     "data": {
      "text/plain": [
       "0    1.427083\n",
       "dtype: float64"
      ]
     },
     "execution_count": 10,
     "metadata": {},
     "output_type": "execute_result"
    }
   ],
   "source": [
    "a = np.array([3,1,5,4,6,4,6,2,5,4,5,4,3,6,6,8,5,5,4,2,0,5,7,5])\n",
    "b = pd.DataFrame(a)\n",
    "b.mad()"
   ]
  },
  {
   "cell_type": "code",
   "execution_count": 11,
   "id": "ebdcff44",
   "metadata": {},
   "outputs": [
    {
     "data": {
      "text/plain": [
       "0    1.166667\n",
       "dtype: float64"
      ]
     },
     "execution_count": 11,
     "metadata": {},
     "output_type": "execute_result"
    }
   ],
   "source": [
    "a = np.array([4,3,6,6,8,5,5,4,2,5,7,5])\n",
    "b = pd.DataFrame(a)\n",
    "b.mad()"
   ]
  },
  {
   "cell_type": "code",
   "execution_count": 12,
   "id": "2565c964",
   "metadata": {},
   "outputs": [
    {
     "data": {
      "text/plain": [
       "0    1.5\n",
       "dtype: float64"
      ]
     },
     "execution_count": 12,
     "metadata": {},
     "output_type": "execute_result"
    }
   ],
   "source": [
    "c = np.array([3,1,5,4,6,4,6,2,0,5,4,5])\n",
    "d = pd.DataFrame(c)\n",
    "d.mad()"
   ]
  },
  {
   "cell_type": "code",
   "execution_count": 13,
   "id": "d8d03eb1",
   "metadata": {},
   "outputs": [
    {
     "data": {
      "text/plain": [
       "0    1.333333\n",
       "dtype: float64"
      ]
     },
     "execution_count": 13,
     "metadata": {},
     "output_type": "execute_result"
    }
   ],
   "source": [
    "(b.mad()+d.mad())/2"
   ]
  },
  {
   "cell_type": "code",
   "execution_count": 14,
   "id": "f22c798a",
   "metadata": {},
   "outputs": [
    {
     "data": {
      "text/plain": [
       "0    0.625\n",
       "dtype: float64"
      ]
     },
     "execution_count": 14,
     "metadata": {},
     "output_type": "execute_result"
    }
   ],
   "source": [
    "x = np.array([b.mean(),d.mean()])\n",
    "y = pd.DataFrame(x)\n",
    "y.mad()"
   ]
  },
  {
   "cell_type": "code",
   "execution_count": 15,
   "id": "859040ec",
   "metadata": {},
   "outputs": [
    {
     "data": {
      "text/plain": [
       "array([[5.  ],\n",
       "       [3.75]])"
      ]
     },
     "execution_count": 15,
     "metadata": {},
     "output_type": "execute_result"
    }
   ],
   "source": [
    "x"
   ]
  },
  {
   "cell_type": "code",
   "execution_count": 16,
   "id": "8134fe88",
   "metadata": {},
   "outputs": [
    {
     "data": {
      "text/html": [
       "<div>\n",
       "<style scoped>\n",
       "    .dataframe tbody tr th:only-of-type {\n",
       "        vertical-align: middle;\n",
       "    }\n",
       "\n",
       "    .dataframe tbody tr th {\n",
       "        vertical-align: top;\n",
       "    }\n",
       "\n",
       "    .dataframe thead th {\n",
       "        text-align: right;\n",
       "    }\n",
       "</style>\n",
       "<table border=\"1\" class=\"dataframe\">\n",
       "  <thead>\n",
       "    <tr style=\"text-align: right;\">\n",
       "      <th></th>\n",
       "      <th>0</th>\n",
       "      <th>0</th>\n",
       "    </tr>\n",
       "  </thead>\n",
       "  <tbody>\n",
       "    <tr>\n",
       "      <th>0</th>\n",
       "      <td>4</td>\n",
       "      <td>3</td>\n",
       "    </tr>\n",
       "    <tr>\n",
       "      <th>1</th>\n",
       "      <td>3</td>\n",
       "      <td>1</td>\n",
       "    </tr>\n",
       "    <tr>\n",
       "      <th>2</th>\n",
       "      <td>6</td>\n",
       "      <td>5</td>\n",
       "    </tr>\n",
       "    <tr>\n",
       "      <th>3</th>\n",
       "      <td>6</td>\n",
       "      <td>4</td>\n",
       "    </tr>\n",
       "    <tr>\n",
       "      <th>4</th>\n",
       "      <td>8</td>\n",
       "      <td>6</td>\n",
       "    </tr>\n",
       "    <tr>\n",
       "      <th>5</th>\n",
       "      <td>5</td>\n",
       "      <td>4</td>\n",
       "    </tr>\n",
       "    <tr>\n",
       "      <th>6</th>\n",
       "      <td>5</td>\n",
       "      <td>6</td>\n",
       "    </tr>\n",
       "    <tr>\n",
       "      <th>7</th>\n",
       "      <td>4</td>\n",
       "      <td>2</td>\n",
       "    </tr>\n",
       "    <tr>\n",
       "      <th>8</th>\n",
       "      <td>2</td>\n",
       "      <td>0</td>\n",
       "    </tr>\n",
       "    <tr>\n",
       "      <th>9</th>\n",
       "      <td>5</td>\n",
       "      <td>5</td>\n",
       "    </tr>\n",
       "    <tr>\n",
       "      <th>10</th>\n",
       "      <td>7</td>\n",
       "      <td>4</td>\n",
       "    </tr>\n",
       "    <tr>\n",
       "      <th>11</th>\n",
       "      <td>5</td>\n",
       "      <td>5</td>\n",
       "    </tr>\n",
       "  </tbody>\n",
       "</table>\n",
       "</div>"
      ],
      "text/plain": [
       "    0  0\n",
       "0   4  3\n",
       "1   3  1\n",
       "2   6  5\n",
       "3   6  4\n",
       "4   8  6\n",
       "5   5  4\n",
       "6   5  6\n",
       "7   4  2\n",
       "8   2  0\n",
       "9   5  5\n",
       "10  7  4\n",
       "11  5  5"
      ]
     },
     "execution_count": 16,
     "metadata": {},
     "output_type": "execute_result"
    }
   ],
   "source": [
    "d = pd.concat([b,d],axis = 1)\n",
    "d"
   ]
  },
  {
   "cell_type": "code",
   "execution_count": 25,
   "id": "d6340f2b",
   "metadata": {},
   "outputs": [
    {
     "data": {
      "text/plain": [
       "1.25"
      ]
     },
     "execution_count": 25,
     "metadata": {},
     "output_type": "execute_result"
    }
   ],
   "source": [
    "#呜呜呜呜呜呜是这个\n",
    "d.mean().mad()*2"
   ]
  },
  {
   "cell_type": "code",
   "execution_count": 18,
   "id": "662be746",
   "metadata": {},
   "outputs": [
    {
     "data": {
      "text/plain": [
       "1.4166666666666667"
      ]
     },
     "execution_count": 18,
     "metadata": {},
     "output_type": "execute_result"
    }
   ],
   "source": [
    "1+2+1+2+2+1+1+2+2+3+0\n",
    "17/12"
   ]
  },
  {
   "cell_type": "code",
   "execution_count": 19,
   "id": "dcc535c3",
   "metadata": {},
   "outputs": [
    {
     "data": {
      "text/html": [
       "<div>\n",
       "<style scoped>\n",
       "    .dataframe tbody tr th:only-of-type {\n",
       "        vertical-align: middle;\n",
       "    }\n",
       "\n",
       "    .dataframe tbody tr th {\n",
       "        vertical-align: top;\n",
       "    }\n",
       "\n",
       "    .dataframe thead th {\n",
       "        text-align: right;\n",
       "    }\n",
       "</style>\n",
       "<table border=\"1\" class=\"dataframe\">\n",
       "  <thead>\n",
       "    <tr style=\"text-align: right;\">\n",
       "      <th></th>\n",
       "      <th>Before</th>\n",
       "      <th>After</th>\n",
       "    </tr>\n",
       "  </thead>\n",
       "  <tbody>\n",
       "    <tr>\n",
       "      <th>0</th>\n",
       "      <td>38</td>\n",
       "      <td>37</td>\n",
       "    </tr>\n",
       "    <tr>\n",
       "      <th>1</th>\n",
       "      <td>29</td>\n",
       "      <td>26</td>\n",
       "    </tr>\n",
       "    <tr>\n",
       "      <th>2</th>\n",
       "      <td>40</td>\n",
       "      <td>36</td>\n",
       "    </tr>\n",
       "    <tr>\n",
       "      <th>3</th>\n",
       "      <td>43</td>\n",
       "      <td>40</td>\n",
       "    </tr>\n",
       "    <tr>\n",
       "      <th>4</th>\n",
       "      <td>56</td>\n",
       "      <td>55</td>\n",
       "    </tr>\n",
       "    <tr>\n",
       "      <th>5</th>\n",
       "      <td>36</td>\n",
       "      <td>32</td>\n",
       "    </tr>\n",
       "    <tr>\n",
       "      <th>6</th>\n",
       "      <td>34</td>\n",
       "      <td>29</td>\n",
       "    </tr>\n",
       "    <tr>\n",
       "      <th>7</th>\n",
       "      <td>32</td>\n",
       "      <td>27</td>\n",
       "    </tr>\n",
       "    <tr>\n",
       "      <th>8</th>\n",
       "      <td>19</td>\n",
       "      <td>18</td>\n",
       "    </tr>\n",
       "    <tr>\n",
       "      <th>9</th>\n",
       "      <td>41</td>\n",
       "      <td>39</td>\n",
       "    </tr>\n",
       "    <tr>\n",
       "      <th>10</th>\n",
       "      <td>18</td>\n",
       "      <td>16</td>\n",
       "    </tr>\n",
       "    <tr>\n",
       "      <th>11</th>\n",
       "      <td>34</td>\n",
       "      <td>31</td>\n",
       "    </tr>\n",
       "    <tr>\n",
       "      <th>12</th>\n",
       "      <td>34</td>\n",
       "      <td>30</td>\n",
       "    </tr>\n",
       "    <tr>\n",
       "      <th>13</th>\n",
       "      <td>44</td>\n",
       "      <td>42</td>\n",
       "    </tr>\n",
       "    <tr>\n",
       "      <th>14</th>\n",
       "      <td>13</td>\n",
       "      <td>9</td>\n",
       "    </tr>\n",
       "    <tr>\n",
       "      <th>15</th>\n",
       "      <td>45</td>\n",
       "      <td>41</td>\n",
       "    </tr>\n",
       "    <tr>\n",
       "      <th>16</th>\n",
       "      <td>32</td>\n",
       "      <td>28</td>\n",
       "    </tr>\n",
       "    <tr>\n",
       "      <th>17</th>\n",
       "      <td>25</td>\n",
       "      <td>23</td>\n",
       "    </tr>\n",
       "    <tr>\n",
       "      <th>18</th>\n",
       "      <td>36</td>\n",
       "      <td>35</td>\n",
       "    </tr>\n",
       "    <tr>\n",
       "      <th>19</th>\n",
       "      <td>39</td>\n",
       "      <td>35</td>\n",
       "    </tr>\n",
       "    <tr>\n",
       "      <th>20</th>\n",
       "      <td>33</td>\n",
       "      <td>28</td>\n",
       "    </tr>\n",
       "    <tr>\n",
       "      <th>21</th>\n",
       "      <td>23</td>\n",
       "      <td>22</td>\n",
       "    </tr>\n",
       "    <tr>\n",
       "      <th>22</th>\n",
       "      <td>47</td>\n",
       "      <td>46</td>\n",
       "    </tr>\n",
       "    <tr>\n",
       "      <th>23</th>\n",
       "      <td>38</td>\n",
       "      <td>33</td>\n",
       "    </tr>\n",
       "    <tr>\n",
       "      <th>24</th>\n",
       "      <td>30</td>\n",
       "      <td>27</td>\n",
       "    </tr>\n",
       "    <tr>\n",
       "      <th>25</th>\n",
       "      <td>47</td>\n",
       "      <td>42</td>\n",
       "    </tr>\n",
       "    <tr>\n",
       "      <th>26</th>\n",
       "      <td>40</td>\n",
       "      <td>35</td>\n",
       "    </tr>\n",
       "    <tr>\n",
       "      <th>27</th>\n",
       "      <td>25</td>\n",
       "      <td>24</td>\n",
       "    </tr>\n",
       "    <tr>\n",
       "      <th>28</th>\n",
       "      <td>42</td>\n",
       "      <td>40</td>\n",
       "    </tr>\n",
       "    <tr>\n",
       "      <th>29</th>\n",
       "      <td>20</td>\n",
       "      <td>19</td>\n",
       "    </tr>\n",
       "  </tbody>\n",
       "</table>\n",
       "</div>"
      ],
      "text/plain": [
       "    Before  After\n",
       "0       38     37\n",
       "1       29     26\n",
       "2       40     36\n",
       "3       43     40\n",
       "4       56     55\n",
       "5       36     32\n",
       "6       34     29\n",
       "7       32     27\n",
       "8       19     18\n",
       "9       41     39\n",
       "10      18     16\n",
       "11      34     31\n",
       "12      34     30\n",
       "13      44     42\n",
       "14      13      9\n",
       "15      45     41\n",
       "16      32     28\n",
       "17      25     23\n",
       "18      36     35\n",
       "19      39     35\n",
       "20      33     28\n",
       "21      23     22\n",
       "22      47     46\n",
       "23      38     33\n",
       "24      30     27\n",
       "25      47     42\n",
       "26      40     35\n",
       "27      25     24\n",
       "28      42     40\n",
       "29      20     19"
      ]
     },
     "execution_count": 19,
     "metadata": {},
     "output_type": "execute_result"
    }
   ],
   "source": [
    "sadex = pd.read_csv('Sadex2 - Copy.csv')\n",
    "sadex\n"
   ]
  },
  {
   "cell_type": "code",
   "execution_count": 20,
   "id": "e993fafd",
   "metadata": {},
   "outputs": [
    {
     "data": {
      "text/plain": [
       "Ttest_indResult(statistic=-1.1571281957399056, pvalue=0.2519634002484173)"
      ]
     },
     "execution_count": 20,
     "metadata": {},
     "output_type": "execute_result"
    }
   ],
   "source": [
    "ttest_ind(sadex['After'], sadex['Before'])"
   ]
  },
  {
   "cell_type": "code",
   "execution_count": 21,
   "id": "1974d5ff",
   "metadata": {},
   "outputs": [
    {
     "data": {
      "text/plain": [
       "30"
      ]
     },
     "execution_count": 21,
     "metadata": {},
     "output_type": "execute_result"
    }
   ],
   "source": [
    "len(sadex)"
   ]
  },
  {
   "cell_type": "code",
   "execution_count": 22,
   "id": "b47a3c3e",
   "metadata": {},
   "outputs": [
    {
     "data": {
      "text/plain": [
       "-2.93333333333333"
      ]
     },
     "execution_count": 22,
     "metadata": {},
     "output_type": "execute_result"
    }
   ],
   "source": [
    "sadex['After'].mean()-sadex['Before'].mean()"
   ]
  },
  {
   "cell_type": "code",
   "execution_count": 23,
   "id": "4f3a6a00",
   "metadata": {},
   "outputs": [
    {
     "data": {
      "text/plain": [
       "45"
      ]
     },
     "execution_count": 23,
     "metadata": {},
     "output_type": "execute_result"
    }
   ],
   "source": [
    "3+1+5+4+6+4+6+2+5+4+5"
   ]
  },
  {
   "cell_type": "code",
   "execution_count": 24,
   "id": "0ead8506",
   "metadata": {},
   "outputs": [],
   "source": [
    "a= 45/11"
   ]
  },
  {
   "cell_type": "code",
   "execution_count": null,
   "id": "ea6355f2",
   "metadata": {},
   "outputs": [],
   "source": []
  },
  {
   "cell_type": "code",
   "execution_count": null,
   "id": "f8822ae5",
   "metadata": {},
   "outputs": [],
   "source": []
  }
 ],
 "metadata": {
  "kernelspec": {
   "display_name": "Python 3 (ipykernel)",
   "language": "python",
   "name": "python3"
  },
  "language_info": {
   "codemirror_mode": {
    "name": "ipython",
    "version": 3
   },
   "file_extension": ".py",
   "mimetype": "text/x-python",
   "name": "python",
   "nbconvert_exporter": "python",
   "pygments_lexer": "ipython3",
   "version": "3.9.12"
  }
 },
 "nbformat": 4,
 "nbformat_minor": 5
}
